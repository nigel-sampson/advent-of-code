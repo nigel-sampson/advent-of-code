{
 "cells": [
  {
   "attachments": {},
   "cell_type": "markdown",
   "metadata": {
    "dotnet_interactive": {
     "language": "csharp"
    },
    "polyglot_notebook": {
     "kernelName": "csharp"
    }
   },
   "source": [
    "# Day 7"
   ]
  },
  {
   "cell_type": "code",
   "execution_count": 311,
   "metadata": {
    "dotnet_interactive": {
     "language": "csharp"
    },
    "polyglot_notebook": {
     "kernelName": "csharp"
    },
    "vscode": {
     "languageId": "polyglot-notebook"
    }
   },
   "outputs": [
    {
     "data": {
      "text/html": [
       "<table><thead><tr><th><i>index</i></th><th>value</th></tr></thead><tbody><tr><td>0</td><td>$ cd /</td></tr><tr><td>1</td><td>$ ls</td></tr><tr><td>2</td><td>150555 bch.lht</td></tr><tr><td>3</td><td>276291 ccqfdznj.sqg</td></tr><tr><td>4</td><td>dir csmqbhjv</td></tr><tr><td>5</td><td>dir czdqfr</td></tr><tr><td>6</td><td>dir fpfwfzrt</td></tr><tr><td>7</td><td>192660 qnbzgp</td></tr><tr><td>8</td><td>142026 rpphgdhp.jfr</td></tr><tr><td>9</td><td>dir sqphfslv</td></tr><tr><td>10</td><td>38077 tvpzh</td></tr><tr><td>11</td><td>$ cd csmqbhjv</td></tr><tr><td>12</td><td>$ ls</td></tr><tr><td>13</td><td>52822 bch.lht</td></tr><tr><td>14</td><td>dir dgj</td></tr><tr><td>15</td><td>dir fmmblb</td></tr><tr><td>16</td><td>dir hjwwtw</td></tr><tr><td>17</td><td>dir mtmhst</td></tr><tr><td>18</td><td>dir njsccfms</td></tr><tr><td>19</td><td>dir wmjsvq</td></tr><tr><td colspan=\"2\"><i>(1011 more)</i></td></tr></tbody></table><style>\r\n",
       ".dni-code-hint {\r\n",
       "    font-style: italic;\r\n",
       "    overflow: hidden;\r\n",
       "    white-space: nowrap;\r\n",
       "}\r\n",
       ".dni-treeview {\r\n",
       "    white-space: nowrap;\r\n",
       "}\r\n",
       ".dni-treeview td {\r\n",
       "    vertical-align: top;\r\n",
       "    text-align: start;\r\n",
       "}\r\n",
       "details.dni-treeview {\r\n",
       "    padding-left: 1em;\r\n",
       "}\r\n",
       "table td {\r\n",
       "    text-align: start;\r\n",
       "}\r\n",
       "table tr { \r\n",
       "    vertical-align: top; \r\n",
       "    margin: 0em 0px;\r\n",
       "}\r\n",
       "table tr td pre \r\n",
       "{ \r\n",
       "    vertical-align: top !important; \r\n",
       "    margin: 0em 0px !important;\r\n",
       "} \r\n",
       "table th {\r\n",
       "    text-align: start;\r\n",
       "}\r\n",
       "</style>"
      ]
     },
     "metadata": {},
     "output_type": "display_data"
    }
   ],
   "source": [
    "var input = await System.IO.File.ReadAllLinesAsync(\"input.txt\");\n",
    "\n",
    "input"
   ]
  },
  {
   "cell_type": "code",
   "execution_count": 312,
   "metadata": {
    "dotnet_interactive": {
     "language": "csharp"
    },
    "polyglot_notebook": {
     "kernelName": "csharp"
    },
    "vscode": {
     "languageId": "polyglot-notebook"
    }
   },
   "outputs": [],
   "source": [
    "public interface IFileSystemObject\n",
    "{\n",
    "    string Name { get; }\n",
    "}\n",
    "\n",
    "public record Directory(string Name) : IFileSystemObject\n",
    "{\n",
    "    private Dictionary<string, IFileSystemObject> children = new Dictionary<string, IFileSystemObject>();\n",
    "\n",
    "    public void Append(IFileSystemObject child) => children.Add(child.Name, child);\n",
    "\n",
    "    public Directory GetDirectory(string name)\n",
    "    {\n",
    "        return children.TryGetValue(name, out var child) && child is Directory d\n",
    "            ?  d\n",
    "            : throw new InvalidOperationException($\"Dirrectory {name} not found\");\n",
    "    }\n",
    "\n",
    "    public int CalculateSize()\n",
    "    {\n",
    "        return children.Sum(c => c.Value switch\n",
    "        {\n",
    "            Directory d => d.CalculateSize(),\n",
    "            File f => f.Size,\n",
    "            _ => throw new ArgumentException()\n",
    "        });\n",
    "    }\n",
    "\n",
    "    public IDictionary<Directory, int> CalculateSizeMap()\n",
    "    {\n",
    "        return children.Values\n",
    "            .OfType<Directory>()\n",
    "            .SelectMany(d => d.CalculateSizeMap())\n",
    "            .Append(new KeyValuePair<Directory, int>(this, CalculateSize()))\n",
    "            .ToDictionary(m => m.Key, m => m.Value);\n",
    "    }\n",
    "}\n",
    "\n",
    "public record File(string Name, int Size) : IFileSystemObject;"
   ]
  },
  {
   "cell_type": "code",
   "execution_count": 313,
   "metadata": {
    "dotnet_interactive": {
     "language": "csharp"
    },
    "polyglot_notebook": {
     "kernelName": "csharp"
    },
    "vscode": {
     "languageId": "polyglot-notebook"
    }
   },
   "outputs": [
    {
     "data": {
      "text/html": [
       "<div class=\"dni-plaintext\"><pre>47048086</pre></div><style>\r\n",
       ".dni-code-hint {\r\n",
       "    font-style: italic;\r\n",
       "    overflow: hidden;\r\n",
       "    white-space: nowrap;\r\n",
       "}\r\n",
       ".dni-treeview {\r\n",
       "    white-space: nowrap;\r\n",
       "}\r\n",
       ".dni-treeview td {\r\n",
       "    vertical-align: top;\r\n",
       "    text-align: start;\r\n",
       "}\r\n",
       "details.dni-treeview {\r\n",
       "    padding-left: 1em;\r\n",
       "}\r\n",
       "table td {\r\n",
       "    text-align: start;\r\n",
       "}\r\n",
       "table tr { \r\n",
       "    vertical-align: top; \r\n",
       "    margin: 0em 0px;\r\n",
       "}\r\n",
       "table tr td pre \r\n",
       "{ \r\n",
       "    vertical-align: top !important; \r\n",
       "    margin: 0em 0px !important;\r\n",
       "} \r\n",
       "table th {\r\n",
       "    text-align: start;\r\n",
       "}\r\n",
       "</style>"
      ]
     },
     "metadata": {},
     "output_type": "display_data"
    }
   ],
   "source": [
    "var root = new Directory(\"/\");\n",
    "var path = new Stack<Directory>();\n",
    "\n",
    "path.Push(root);\n",
    "\n",
    "var current = root;\n",
    "\n",
    "foreach (var instruction in input.Skip(1))\n",
    "{\n",
    "    if (instruction.StartsWith(\"dir\"))\n",
    "    {\n",
    "        var name = instruction[4..];\n",
    "        current.Append(new Directory(name));\n",
    "    }\n",
    "    else if (instruction.StartsWith(\"$ cd\"))\n",
    "    {\n",
    "        var name = instruction[5..];\n",
    "\n",
    "        if (name == \"..\")\n",
    "        {\n",
    "            current = path.Pop();\n",
    "        }\n",
    "        else\n",
    "        {\n",
    "            path.Push(current);\n",
    "            current = current.GetDirectory(name);\n",
    "        }\n",
    "    }\n",
    "    else if (instruction.StartsWith(\"$ ls\"))\n",
    "    {\n",
    "    }\n",
    "    else \n",
    "    {\n",
    "        var i = instruction.IndexOf(\" \");\n",
    "        var size = Int32.Parse(instruction[..i]);\n",
    "        var name = instruction[(i+1)..];\n",
    "\n",
    "        current.Append(new File(name, size));\n",
    "    }\n",
    "}\n",
    "\n",
    "root.CalculateSize()"
   ]
  },
  {
   "cell_type": "code",
   "execution_count": 314,
   "metadata": {
    "dotnet_interactive": {
     "language": "csharp"
    },
    "polyglot_notebook": {
     "kernelName": "csharp"
    },
    "vscode": {
     "languageId": "polyglot-notebook"
    }
   },
   "outputs": [
    {
     "data": {
      "text/html": [
       "<table><thead><tr><th><i>key</i></th><th>value</th></tr></thead><tbody><tr><td><table><thead><tr><th>Name</th></tr></thead><tbody><tr><td><div class=\"dni-plaintext\"><pre>brwncbh</pre></div></td></tr></tbody></table></td><td><div class=\"dni-plaintext\"><pre>238441</pre></div></td></tr><tr><td><table><thead><tr><th>Name</th></tr></thead><tbody><tr><td><div class=\"dni-plaintext\"><pre>dtdzsqps</pre></div></td></tr></tbody></table></td><td><div class=\"dni-plaintext\"><pre>375884</pre></div></td></tr><tr><td><table><thead><tr><th>Name</th></tr></thead><tbody><tr><td><div class=\"dni-plaintext\"><pre>czdqfr</pre></div></td></tr></tbody></table></td><td><div class=\"dni-plaintext\"><pre>8551</pre></div></td></tr><tr><td><table><thead><tr><th>Name</th></tr></thead><tbody><tr><td><div class=\"dni-plaintext\"><pre>hrhqhcjg</pre></div></td></tr></tbody></table></td><td><div class=\"dni-plaintext\"><pre>8255</pre></div></td></tr><tr><td><table><thead><tr><th>Name</th></tr></thead><tbody><tr><td><div class=\"dni-plaintext\"><pre>czdqfr</pre></div></td></tr></tbody></table></td><td><div class=\"dni-plaintext\"><pre>16806</pre></div></td></tr><tr><td><table><thead><tr><th>Name</th></tr></thead><tbody><tr><td><div class=\"dni-plaintext\"><pre>fgmz</pre></div></td></tr></tbody></table></td><td><div class=\"dni-plaintext\"><pre>145921</pre></div></td></tr><tr><td><table><thead><tr><th>Name</th></tr></thead><tbody><tr><td><div class=\"dni-plaintext\"><pre>cdqv</pre></div></td></tr></tbody></table></td><td><div class=\"dni-plaintext\"><pre>294789</pre></div></td></tr><tr><td><table><thead><tr><th>Name</th></tr></thead><tbody><tr><td><div class=\"dni-plaintext\"><pre>cjtb</pre></div></td></tr></tbody></table></td><td><div class=\"dni-plaintext\"><pre>306568</pre></div></td></tr><tr><td><table><thead><tr><th>Name</th></tr></thead><tbody><tr><td><div class=\"dni-plaintext\"><pre>llg</pre></div></td></tr></tbody></table></td><td><div class=\"dni-plaintext\"><pre>615499</pre></div></td></tr><tr><td><table><thead><tr><th>Name</th></tr></thead><tbody><tr><td><div class=\"dni-plaintext\"><pre>lmgrr</pre></div></td></tr></tbody></table></td><td><div class=\"dni-plaintext\"><pre>306217</pre></div></td></tr><tr><td><table><thead><tr><th>Name</th></tr></thead><tbody><tr><td><div class=\"dni-plaintext\"><pre>rcb</pre></div></td></tr></tbody></table></td><td><div class=\"dni-plaintext\"><pre>306217</pre></div></td></tr><tr><td><table><thead><tr><th>Name</th></tr></thead><tbody><tr><td><div class=\"dni-plaintext\"><pre>fmmblb</pre></div></td></tr></tbody></table></td><td><div class=\"dni-plaintext\"><pre>1419115</pre></div></td></tr><tr><td><table><thead><tr><th>Name</th></tr></thead><tbody><tr><td><div class=\"dni-plaintext\"><pre>czdqfr</pre></div></td></tr></tbody></table></td><td><div class=\"dni-plaintext\"><pre>1771159</pre></div></td></tr><tr><td><table><thead><tr><th>Name</th></tr></thead><tbody><tr><td><div class=\"dni-plaintext\"><pre>rjnv</pre></div></td></tr></tbody></table></td><td><div class=\"dni-plaintext\"><pre>3048790</pre></div></td></tr><tr><td><table><thead><tr><th>Name</th></tr></thead><tbody><tr><td><div class=\"dni-plaintext\"><pre>clmdlmc</pre></div></td></tr></tbody></table></td><td><div class=\"dni-plaintext\"><pre>627855</pre></div></td></tr><tr><td><table><thead><tr><th>Name</th></tr></thead><tbody><tr><td><div class=\"dni-plaintext\"><pre>fmmblb</pre></div></td></tr></tbody></table></td><td><div class=\"dni-plaintext\"><pre>254906</pre></div></td></tr><tr><td><table><thead><tr><th>Name</th></tr></thead><tbody><tr><td><div class=\"dni-plaintext\"><pre>czdqfr</pre></div></td></tr></tbody></table></td><td><div class=\"dni-plaintext\"><pre>269467</pre></div></td></tr><tr><td><table><thead><tr><th>Name</th></tr></thead><tbody><tr><td><div class=\"dni-plaintext\"><pre>pgrtzw</pre></div></td></tr></tbody></table></td><td><div class=\"dni-plaintext\"><pre>32086</pre></div></td></tr><tr><td><table><thead><tr><th>Name</th></tr></thead><tbody><tr><td><div class=\"dni-plaintext\"><pre>rwnqgjmm</pre></div></td></tr></tbody></table></td><td><div class=\"dni-plaintext\"><pre>507936</pre></div></td></tr><tr><td><table><thead><tr><th>Name</th></tr></thead><tbody><tr><td><div class=\"dni-plaintext\"><pre>mnm</pre></div></td></tr></tbody></table></td><td><div class=\"dni-plaintext\"><pre>1037499</pre></div></td></tr><tr><td colspan=\"2\"><i>(169 more)</i></td></tr></tbody></table><style>\r\n",
       ".dni-code-hint {\r\n",
       "    font-style: italic;\r\n",
       "    overflow: hidden;\r\n",
       "    white-space: nowrap;\r\n",
       "}\r\n",
       ".dni-treeview {\r\n",
       "    white-space: nowrap;\r\n",
       "}\r\n",
       ".dni-treeview td {\r\n",
       "    vertical-align: top;\r\n",
       "    text-align: start;\r\n",
       "}\r\n",
       "details.dni-treeview {\r\n",
       "    padding-left: 1em;\r\n",
       "}\r\n",
       "table td {\r\n",
       "    text-align: start;\r\n",
       "}\r\n",
       "table tr { \r\n",
       "    vertical-align: top; \r\n",
       "    margin: 0em 0px;\r\n",
       "}\r\n",
       "table tr td pre \r\n",
       "{ \r\n",
       "    vertical-align: top !important; \r\n",
       "    margin: 0em 0px !important;\r\n",
       "} \r\n",
       "table th {\r\n",
       "    text-align: start;\r\n",
       "}\r\n",
       "</style>"
      ]
     },
     "metadata": {},
     "output_type": "display_data"
    }
   ],
   "source": [
    "var map = root.CalculateSizeMap();\n",
    "\n",
    "map"
   ]
  },
  {
   "cell_type": "code",
   "execution_count": 315,
   "metadata": {
    "dotnet_interactive": {
     "language": "csharp"
    },
    "polyglot_notebook": {
     "kernelName": "csharp"
    },
    "vscode": {
     "languageId": "polyglot-notebook"
    }
   },
   "outputs": [
    {
     "data": {
      "text/html": [
       "<div class=\"dni-plaintext\"><pre>1307902</pre></div><style>\r\n",
       ".dni-code-hint {\r\n",
       "    font-style: italic;\r\n",
       "    overflow: hidden;\r\n",
       "    white-space: nowrap;\r\n",
       "}\r\n",
       ".dni-treeview {\r\n",
       "    white-space: nowrap;\r\n",
       "}\r\n",
       ".dni-treeview td {\r\n",
       "    vertical-align: top;\r\n",
       "    text-align: start;\r\n",
       "}\r\n",
       "details.dni-treeview {\r\n",
       "    padding-left: 1em;\r\n",
       "}\r\n",
       "table td {\r\n",
       "    text-align: start;\r\n",
       "}\r\n",
       "table tr { \r\n",
       "    vertical-align: top; \r\n",
       "    margin: 0em 0px;\r\n",
       "}\r\n",
       "table tr td pre \r\n",
       "{ \r\n",
       "    vertical-align: top !important; \r\n",
       "    margin: 0em 0px !important;\r\n",
       "} \r\n",
       "table th {\r\n",
       "    text-align: start;\r\n",
       "}\r\n",
       "</style>"
      ]
     },
     "metadata": {},
     "output_type": "display_data"
    }
   ],
   "source": [
    "map.Where(m => m.Value <= 100000).Sum(m => m.Value)"
   ]
  },
  {
   "cell_type": "code",
   "execution_count": 316,
   "metadata": {
    "dotnet_interactive": {
     "language": "csharp"
    },
    "polyglot_notebook": {
     "kernelName": "csharp"
    },
    "vscode": {
     "languageId": "polyglot-notebook"
    }
   },
   "outputs": [
    {
     "data": {
      "text/html": [
       "<table><thead><tr><th>Key</th><th>Value</th></tr></thead><tbody><tr><td><div class=\"dni-plaintext\"><pre>Directory\r\n",
       "        Name: jswfprpl</pre></div></td><td><div class=\"dni-plaintext\"><pre>7068748</pre></div></td></tr></tbody></table>"
      ]
     },
     "metadata": {},
     "output_type": "display_data"
    }
   ],
   "source": [
    "const int total = 70000000;\n",
    "const int required = 30000000;\n",
    "\n",
    "var currentFree = total - root.CalculateSize();\n",
    "\n",
    "map.OrderBy(m => m.Value).First(m => currentFree + m.Value >= required)\n"
   ]
  }
 ],
 "metadata": {
  "kernelspec": {
   "display_name": ".NET (C#)",
   "language": "C#",
   "name": ".net-csharp"
  },
  "polyglot_notebook": {
   "kernelInfo": {
    "defaultKernelName": "csharp",
    "items": [
     {
      "aliases": [
       "c#",
       "C#"
      ],
      "languageName": "C#",
      "name": "csharp"
     },
     {
      "aliases": [
       "frontend"
      ],
      "name": "vscode"
     },
     {
      "aliases": [],
      "name": ".NET"
     },
     {
      "aliases": [
       "f#",
       "F#"
      ],
      "languageName": "F#",
      "name": "fsharp"
     },
     {
      "aliases": [],
      "languageName": "HTML",
      "name": "html"
     },
     {
      "aliases": [],
      "languageName": "KQL",
      "name": "kql"
     },
     {
      "aliases": [],
      "languageName": "Mermaid",
      "name": "mermaid"
     },
     {
      "aliases": [
       "powershell"
      ],
      "languageName": "PowerShell",
      "name": "pwsh"
     },
     {
      "aliases": [],
      "languageName": "SQL",
      "name": "sql"
     },
     {
      "aliases": [],
      "name": "value"
     }
    ]
   }
  }
 },
 "nbformat": 4,
 "nbformat_minor": 2
}
