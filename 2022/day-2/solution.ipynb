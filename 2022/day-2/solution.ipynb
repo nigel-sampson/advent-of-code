{
 "cells": [
  {
   "cell_type": "markdown",
   "metadata": {},
   "source": [
    "# Day 2"
   ]
  },
  {
   "cell_type": "code",
   "execution_count": 70,
   "metadata": {
    "dotnet_interactive": {
     "language": "csharp"
    },
    "vscode": {
     "languageId": "dotnet-interactive.csharp"
    }
   },
   "outputs": [
    {
     "data": {
      "text/html": [
       "<table><thead><tr><th><i>index</i></th><th>value</th></tr></thead><tbody><tr><td>0</td><td>C X</td></tr><tr><td>1</td><td>B Y</td></tr><tr><td>2</td><td>C Z</td></tr><tr><td>3</td><td>C Z</td></tr><tr><td>4</td><td>B X</td></tr><tr><td>5</td><td>C Z</td></tr><tr><td>6</td><td>C Z</td></tr><tr><td>7</td><td>C Z</td></tr><tr><td>8</td><td>B X</td></tr><tr><td>9</td><td>B Y</td></tr><tr><td>10</td><td>B Z</td></tr><tr><td>11</td><td>B Z</td></tr><tr><td>12</td><td>B Z</td></tr><tr><td>13</td><td>C X</td></tr><tr><td>14</td><td>C Y</td></tr><tr><td>15</td><td>B Y</td></tr><tr><td>16</td><td>C Z</td></tr><tr><td>17</td><td>C Y</td></tr><tr><td>18</td><td>C X</td></tr><tr><td>19</td><td>B Y</td></tr><tr><td colspan=\"2\"><i>(2480 more)</i></td></tr></tbody></table>"
      ]
     },
     "metadata": {},
     "output_type": "display_data"
    }
   ],
   "source": [
    "using System.IO;\n",
    "\n",
    "var lines = await File.ReadAllLinesAsync(\"input.txt\");\n",
    "\n",
    "lines"
   ]
  },
  {
   "cell_type": "code",
   "execution_count": 71,
   "metadata": {
    "dotnet_interactive": {
     "language": "csharp"
    },
    "vscode": {
     "languageId": "dotnet-interactive.csharp"
    }
   },
   "outputs": [
    {
     "data": {
      "text/html": [
       "<table><thead><tr><th><i>index</i></th><th>Opponent</th><th>Response</th><th>Result</th></tr></thead><tbody><tr><td>0</td><td><span>Scissors</span></td><td><span>Rock</span></td><td><span>Win</span></td></tr><tr><td>1</td><td><span>Paper</span></td><td><span>Paper</span></td><td><span>Draw</span></td></tr><tr><td>2</td><td><span>Scissors</span></td><td><span>Scissors</span></td><td><span>Draw</span></td></tr><tr><td>3</td><td><span>Scissors</span></td><td><span>Scissors</span></td><td><span>Draw</span></td></tr><tr><td>4</td><td><span>Paper</span></td><td><span>Rock</span></td><td><span>Loss</span></td></tr><tr><td>5</td><td><span>Scissors</span></td><td><span>Scissors</span></td><td><span>Draw</span></td></tr><tr><td>6</td><td><span>Scissors</span></td><td><span>Scissors</span></td><td><span>Draw</span></td></tr><tr><td>7</td><td><span>Scissors</span></td><td><span>Scissors</span></td><td><span>Draw</span></td></tr><tr><td>8</td><td><span>Paper</span></td><td><span>Rock</span></td><td><span>Loss</span></td></tr><tr><td>9</td><td><span>Paper</span></td><td><span>Paper</span></td><td><span>Draw</span></td></tr><tr><td>10</td><td><span>Paper</span></td><td><span>Scissors</span></td><td><span>Win</span></td></tr><tr><td>11</td><td><span>Paper</span></td><td><span>Scissors</span></td><td><span>Win</span></td></tr><tr><td>12</td><td><span>Paper</span></td><td><span>Scissors</span></td><td><span>Win</span></td></tr><tr><td>13</td><td><span>Scissors</span></td><td><span>Rock</span></td><td><span>Win</span></td></tr><tr><td>14</td><td><span>Scissors</span></td><td><span>Paper</span></td><td><span>Loss</span></td></tr><tr><td>15</td><td><span>Paper</span></td><td><span>Paper</span></td><td><span>Draw</span></td></tr><tr><td>16</td><td><span>Scissors</span></td><td><span>Scissors</span></td><td><span>Draw</span></td></tr><tr><td>17</td><td><span>Scissors</span></td><td><span>Paper</span></td><td><span>Loss</span></td></tr><tr><td>18</td><td><span>Scissors</span></td><td><span>Rock</span></td><td><span>Win</span></td></tr><tr><td>19</td><td><span>Paper</span></td><td><span>Paper</span></td><td><span>Draw</span></td></tr><tr><td colspan=\"4\"><i>... (more)</i></td></tr></tbody></table>"
      ]
     },
     "metadata": {},
     "output_type": "display_data"
    }
   ],
   "source": [
    "public enum Move\n",
    "{\n",
    "    Rock,\n",
    "    Paper,\n",
    "    Scissors\n",
    "}\n",
    "\n",
    "public static Move ParseMove(string input)\n",
    "{\n",
    "    return input switch\n",
    "    {\n",
    "        \"A\" or \"X\" => Move.Rock,\n",
    "        \"B\" or \"Y\" => Move.Paper,\n",
    "        \"C\" or \"Z\" => Move.Scissors\n",
    "    };\n",
    "}\n",
    "\n",
    "public enum Result\n",
    "{\n",
    "    Win,\n",
    "    Loss,\n",
    "    Draw\n",
    "}\n",
    "\n",
    "public record Game(Move Opponent, Move Response)\n",
    "{\n",
    "    public Result Result\n",
    "    {\n",
    "        get\n",
    "        {\n",
    "            return (Opponent, Response) switch\n",
    "            {\n",
    "                (Move.Rock, Move.Rock) => Result.Draw,\n",
    "                (Move.Rock, Move.Paper) => Result.Win,\n",
    "                (Move.Rock, Move.Scissors) => Result.Loss,\n",
    "                (Move.Paper, Move.Rock) => Result.Loss,\n",
    "                (Move.Paper, Move.Paper) => Result.Draw,\n",
    "                (Move.Paper, Move.Scissors) => Result.Win,\n",
    "                (Move.Scissors, Move.Rock) => Result.Win,\n",
    "                (Move.Scissors, Move.Paper) => Result.Loss,\n",
    "                (Move.Scissors, Move.Scissors) => Result.Draw\n",
    "            };\n",
    "        }\n",
    "    }\n",
    "}\n",
    "\n",
    "public static int CalculateScore(Result result, Move response)\n",
    "{\n",
    "    var resultScore = result switch \n",
    "    {\n",
    "        Result.Win => 6,\n",
    "        Result.Loss => 0,\n",
    "        Result.Draw => 3\n",
    "    };\n",
    "\n",
    "    var responseScore = response switch\n",
    "    {\n",
    "        Move.Rock => 1,\n",
    "        Move.Paper => 2,\n",
    "        Move.Scissors => 3\n",
    "    };\n",
    "\n",
    "    return resultScore + responseScore;\n",
    "}\n",
    "\n",
    "public static Game ParseGame(string input)\n",
    "{\n",
    "    var moves = input.Split(\" \", StringSplitOptions.RemoveEmptyEntries);\n",
    "    return new Game(ParseMove(moves[0]), ParseMove(moves[1]));\n",
    "}\n",
    "\n",
    "var games = lines.Select(l => ParseGame(l));\n",
    "\n",
    "games"
   ]
  },
  {
   "cell_type": "code",
   "execution_count": 72,
   "metadata": {
    "dotnet_interactive": {
     "language": "csharp"
    },
    "vscode": {
     "languageId": "dotnet-interactive.csharp"
    }
   },
   "outputs": [
    {
     "data": {
      "text/html": [
       "<div class=\"dni-plaintext\">13221</div>"
      ]
     },
     "metadata": {},
     "output_type": "display_data"
    }
   ],
   "source": [
    "var totalScore = games.Sum(g => CalculateScore(g.Result, g.Response));\n",
    "\n",
    "totalScore"
   ]
  },
  {
   "cell_type": "code",
   "execution_count": 73,
   "metadata": {
    "dotnet_interactive": {
     "language": "csharp"
    },
    "vscode": {
     "languageId": "dotnet-interactive.csharp"
    }
   },
   "outputs": [
    {
     "data": {
      "text/html": [
       "<table><thead><tr><th><i>index</i></th><th>Opponent</th><th>Result</th><th>Response</th></tr></thead><tbody><tr><td>0</td><td><span>Scissors</span></td><td><span>Loss</span></td><td><span>Paper</span></td></tr><tr><td>1</td><td><span>Paper</span></td><td><span>Draw</span></td><td><span>Paper</span></td></tr><tr><td>2</td><td><span>Scissors</span></td><td><span>Win</span></td><td><span>Rock</span></td></tr><tr><td>3</td><td><span>Scissors</span></td><td><span>Win</span></td><td><span>Rock</span></td></tr><tr><td>4</td><td><span>Paper</span></td><td><span>Loss</span></td><td><span>Rock</span></td></tr><tr><td>5</td><td><span>Scissors</span></td><td><span>Win</span></td><td><span>Rock</span></td></tr><tr><td>6</td><td><span>Scissors</span></td><td><span>Win</span></td><td><span>Rock</span></td></tr><tr><td>7</td><td><span>Scissors</span></td><td><span>Win</span></td><td><span>Rock</span></td></tr><tr><td>8</td><td><span>Paper</span></td><td><span>Loss</span></td><td><span>Rock</span></td></tr><tr><td>9</td><td><span>Paper</span></td><td><span>Draw</span></td><td><span>Paper</span></td></tr><tr><td>10</td><td><span>Paper</span></td><td><span>Win</span></td><td><span>Scissors</span></td></tr><tr><td>11</td><td><span>Paper</span></td><td><span>Win</span></td><td><span>Scissors</span></td></tr><tr><td>12</td><td><span>Paper</span></td><td><span>Win</span></td><td><span>Scissors</span></td></tr><tr><td>13</td><td><span>Scissors</span></td><td><span>Loss</span></td><td><span>Paper</span></td></tr><tr><td>14</td><td><span>Scissors</span></td><td><span>Draw</span></td><td><span>Scissors</span></td></tr><tr><td>15</td><td><span>Paper</span></td><td><span>Draw</span></td><td><span>Paper</span></td></tr><tr><td>16</td><td><span>Scissors</span></td><td><span>Win</span></td><td><span>Rock</span></td></tr><tr><td>17</td><td><span>Scissors</span></td><td><span>Draw</span></td><td><span>Scissors</span></td></tr><tr><td>18</td><td><span>Scissors</span></td><td><span>Loss</span></td><td><span>Paper</span></td></tr><tr><td>19</td><td><span>Paper</span></td><td><span>Draw</span></td><td><span>Paper</span></td></tr><tr><td colspan=\"4\"><i>... (more)</i></td></tr></tbody></table>"
      ]
     },
     "metadata": {},
     "output_type": "display_data"
    }
   ],
   "source": [
    "public static Result ParseResult(string input)\n",
    "{\n",
    "    return input switch\n",
    "    {\n",
    "        \"X\" => Result.Loss,\n",
    "        \"Y\" => Result.Draw,\n",
    "        \"Z\" => Result.Win\n",
    "    };\n",
    "}\n",
    "\n",
    "public record Game(Move Opponent, Result Result)\n",
    "{\n",
    "    public Move Response\n",
    "    {\n",
    "        get\n",
    "        {\n",
    "            return (Opponent, Result) switch\n",
    "            {\n",
    "                (Move.Rock, Result.Win) => Move.Paper,\n",
    "                (Move.Rock, Result.Loss) => Move.Scissors,\n",
    "                (Move.Rock, Result.Draw) => Move.Rock,\n",
    "                (Move.Paper, Result.Win) => Move.Scissors,\n",
    "                (Move.Paper, Result.Loss) => Move.Rock,\n",
    "                (Move.Paper, Result.Draw) => Move.Paper,\n",
    "                (Move.Scissors, Result.Win) => Move.Rock,\n",
    "                (Move.Scissors, Result.Loss) => Move.Paper,\n",
    "                (Move.Scissors, Result.Draw) => Move.Scissors,\n",
    "            };\n",
    "        }\n",
    "    }\n",
    "}\n",
    "\n",
    "public static Game ParseGame(string input)\n",
    "{\n",
    "    var inputs = input.Split(\" \", StringSplitOptions.RemoveEmptyEntries);\n",
    "    return new Game(ParseMove(inputs[0]), ParseResult(inputs[1]));\n",
    "}\n",
    "\n",
    "var games = lines.Select(l => ParseGame(l));\n",
    "\n",
    "games"
   ]
  },
  {
   "cell_type": "code",
   "execution_count": 74,
   "metadata": {
    "dotnet_interactive": {
     "language": "csharp"
    },
    "vscode": {
     "languageId": "dotnet-interactive.csharp"
    }
   },
   "outputs": [
    {
     "data": {
      "text/html": [
       "<div class=\"dni-plaintext\">13131</div>"
      ]
     },
     "metadata": {},
     "output_type": "display_data"
    }
   ],
   "source": [
    "var totalScore = games.Sum(g => CalculateScore(g.Result, g.Response));\n",
    "\n",
    "totalScore"
   ]
  }
 ],
 "metadata": {
  "kernelspec": {
   "display_name": ".NET (C#)",
   "language": "C#",
   "name": ".net-csharp"
  },
  "language_info": {
   "file_extension": ".cs",
   "mimetype": "text/x-csharp",
   "name": "C#",
   "pygments_lexer": "csharp",
   "version": "9.0"
  },
  "orig_nbformat": 4,
  "vscode": {
   "interpreter": {
    "hash": "bdf1d89451dd98172cc8d2f74f0e8973c100cdfc475fe19f28f283c47be57e9a"
   }
  }
 },
 "nbformat": 4,
 "nbformat_minor": 2
}
