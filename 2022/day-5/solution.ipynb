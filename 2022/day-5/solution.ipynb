{
 "cells": [
  {
   "cell_type": "markdown",
   "metadata": {},
   "source": [
    "# Day 5\n",
    "## Part 1"
   ]
  },
  {
   "cell_type": "code",
   "execution_count": 164,
   "metadata": {
    "dotnet_interactive": {
     "language": "csharp"
    },
    "vscode": {
     "languageId": "dotnet-interactive.csharp"
    }
   },
   "outputs": [
    {
     "data": {
      "text/html": [
       "<table><thead><tr><th><i>index</i></th><th>value</th></tr></thead><tbody><tr><td>0</td><td>    [D]    </td></tr><tr><td>1</td><td>[N] [C]    </td></tr><tr><td>2</td><td>[Z] [M] [P]</td></tr><tr><td>3</td><td> 1   2   3 </td></tr><tr><td>4</td><td></td></tr><tr><td>5</td><td>move 1 from 2 to 1</td></tr><tr><td>6</td><td>move 3 from 1 to 3</td></tr><tr><td>7</td><td>move 2 from 2 to 1</td></tr><tr><td>8</td><td>move 1 from 1 to 2</td></tr></tbody></table>"
      ]
     },
     "metadata": {},
     "output_type": "display_data"
    }
   ],
   "source": [
    "using System.IO;\n",
    "\n",
    "var lines = await File.ReadAllLinesAsync(\"test-input.txt\");\n",
    "\n",
    "lines"
   ]
  },
  {
   "cell_type": "code",
   "execution_count": 165,
   "metadata": {
    "dotnet_interactive": {
     "language": "csharp"
    },
    "vscode": {
     "languageId": "dotnet-interactive.csharp"
    }
   },
   "outputs": [
    {
     "data": {
      "text/html": [
       "<div class=\"dni-plaintext\">4</div>"
      ]
     },
     "metadata": {},
     "output_type": "display_data"
    }
   ],
   "source": [
    "var instructionSplitIndex = -1;\n",
    "\n",
    "for (var i = 0; i < lines.Length; i++)\n",
    "{\n",
    "    if (String.IsNullOrWhiteSpace(lines[i]))\n",
    "    {\n",
    "        instructionSplitIndex = i;\n",
    "        break;\n",
    "    }\n",
    "}\n",
    "\n",
    "instructionSplitIndex"
   ]
  },
  {
   "cell_type": "code",
   "execution_count": 166,
   "metadata": {
    "dotnet_interactive": {
     "language": "csharp"
    },
    "vscode": {
     "languageId": "dotnet-interactive.csharp"
    }
   },
   "outputs": [
    {
     "data": {
      "text/html": [
       "<table><thead><tr><th><i>index</i></th><th>value</th></tr></thead><tbody><tr><td>0</td><td> 1   2   3 </td></tr><tr><td>1</td><td>[Z] [M] [P]</td></tr><tr><td>2</td><td>[N] [C]    </td></tr><tr><td>3</td><td>    [D]    </td></tr></tbody></table>"
      ]
     },
     "metadata": {},
     "output_type": "display_data"
    }
   ],
   "source": [
    "var initialStacks = lines[..instructionSplitIndex].Reverse().ToArray();\n",
    "\n",
    "initialStacks"
   ]
  },
  {
   "cell_type": "code",
   "execution_count": 167,
   "metadata": {
    "dotnet_interactive": {
     "language": "csharp"
    },
    "vscode": {
     "languageId": "dotnet-interactive.csharp"
    }
   },
   "outputs": [],
   "source": [
    "public static Stack<char>[] BuildInitialState(string[] initialStacks)\n",
    "{\n",
    "    var stackCount = (initialStacks[0].Length + 1) / 4;\n",
    "    var stacks = Enumerable.Range(0, stackCount).Select(_ => new Stack<char>()).ToArray();\n",
    "\n",
    "    foreach (var stackLine in initialStacks[1..])\n",
    "    {\n",
    "        for (var i = 0; i < stackCount; i++)\n",
    "        {\n",
    "            var stackIndex = (i * 4) + 1;\n",
    "            var container = stackLine[stackIndex];\n",
    "            \n",
    "            if (container == ' ')\n",
    "                continue;\n",
    "\n",
    "            stacks[i].Push(container);\n",
    "        }\n",
    "    }\n",
    "\n",
    "    return stacks;\n",
    "}\n",
    "\n",
    "var stacks = BuildInitialState(initialStacks);"
   ]
  },
  {
   "cell_type": "code",
   "execution_count": 168,
   "metadata": {
    "dotnet_interactive": {
     "language": "csharp"
    },
    "vscode": {
     "languageId": "dotnet-interactive.csharp"
    }
   },
   "outputs": [
    {
     "data": {
      "text/html": [
       "<table><thead><tr><th><i>index</i></th><th>value</th></tr></thead><tbody><tr><td>0</td><td>move 1 from 2 to 1</td></tr><tr><td>1</td><td>move 3 from 1 to 3</td></tr><tr><td>2</td><td>move 2 from 2 to 1</td></tr><tr><td>3</td><td>move 1 from 1 to 2</td></tr></tbody></table>"
      ]
     },
     "metadata": {},
     "output_type": "display_data"
    }
   ],
   "source": [
    "var instructionLines = lines[(instructionSplitIndex + 1)..];\n",
    "\n",
    "instructionLines"
   ]
  },
  {
   "cell_type": "code",
   "execution_count": 169,
   "metadata": {
    "dotnet_interactive": {
     "language": "csharp"
    },
    "vscode": {
     "languageId": "dotnet-interactive.csharp"
    }
   },
   "outputs": [
    {
     "data": {
      "text/html": [
       "<table><thead><tr><th><i>index</i></th><th>Count</th><th>From</th><th>To</th></tr></thead><tbody><tr><td>0</td><td><div class=\"dni-plaintext\">1</div></td><td><div class=\"dni-plaintext\">2</div></td><td><div class=\"dni-plaintext\">1</div></td></tr><tr><td>1</td><td><div class=\"dni-plaintext\">3</div></td><td><div class=\"dni-plaintext\">1</div></td><td><div class=\"dni-plaintext\">3</div></td></tr><tr><td>2</td><td><div class=\"dni-plaintext\">2</div></td><td><div class=\"dni-plaintext\">2</div></td><td><div class=\"dni-plaintext\">1</div></td></tr><tr><td>3</td><td><div class=\"dni-plaintext\">1</div></td><td><div class=\"dni-plaintext\">1</div></td><td><div class=\"dni-plaintext\">2</div></td></tr></tbody></table>"
      ]
     },
     "metadata": {},
     "output_type": "display_data"
    }
   ],
   "source": [
    "using System.Text.RegularExpressions;\n",
    "\n",
    "public record Instruction(int Count, int From, int To);\n",
    "\n",
    "var instructions = new List<Instruction>();\n",
    "\n",
    "var instructionExpression = new Regex(@\"move (\\d+) from (\\d+) to (\\d+)\");\n",
    "\n",
    "foreach (var instructionLine in instructionLines)\n",
    "{\n",
    "    var match = instructionExpression.Match(instructionLine);\n",
    "\n",
    "    var count = Int32.Parse(match.Groups[1].Value);\n",
    "    var from = Int32.Parse(match.Groups[2].Value);\n",
    "    var to = Int32.Parse(match.Groups[3].Value);\n",
    "\n",
    "    instructions.Add(new Instruction(count, from, to));\n",
    "}\n",
    "\n",
    "instructions"
   ]
  },
  {
   "cell_type": "code",
   "execution_count": 170,
   "metadata": {
    "dotnet_interactive": {
     "language": "csharp"
    },
    "vscode": {
     "languageId": "dotnet-interactive.csharp"
    }
   },
   "outputs": [
    {
     "data": {
      "text/html": [
       "<table><thead><tr><th><i>index</i></th><th>value</th></tr></thead><tbody><tr><td>0</td><td><div class=\"dni-plaintext\">[ C ]</div></td></tr><tr><td>1</td><td><div class=\"dni-plaintext\">[ M ]</div></td></tr><tr><td>2</td><td><div class=\"dni-plaintext\">[ Z, N, D, P ]</div></td></tr></tbody></table>"
      ]
     },
     "metadata": {},
     "output_type": "display_data"
    }
   ],
   "source": [
    "foreach (var instruction in instructions)\n",
    "{\n",
    "    for (var i = 0; i < instruction.Count; i++)\n",
    "    {\n",
    "        stacks[instruction.To - 1].Push(stacks[instruction.From - 1].Pop());\n",
    "    }\n",
    "}\n",
    "\n",
    "stacks"
   ]
  },
  {
   "cell_type": "code",
   "execution_count": 171,
   "metadata": {
    "dotnet_interactive": {
     "language": "csharp"
    },
    "vscode": {
     "languageId": "dotnet-interactive.csharp"
    }
   },
   "outputs": [
    {
     "data": {
      "text/plain": [
       "CMZ"
      ]
     },
     "metadata": {},
     "output_type": "display_data"
    }
   ],
   "source": [
    "new string(stacks.Select(s => s.Pop()).ToArray())"
   ]
  },
  {
   "cell_type": "markdown",
   "metadata": {},
   "source": [
    "## Part 2"
   ]
  },
  {
   "cell_type": "code",
   "execution_count": 172,
   "metadata": {
    "dotnet_interactive": {
     "language": "csharp"
    },
    "vscode": {
     "languageId": "dotnet-interactive.csharp"
    }
   },
   "outputs": [
    {
     "data": {
      "text/html": [
       "<table><thead><tr><th><i>index</i></th><th>value</th></tr></thead><tbody><tr><td>0</td><td><div class=\"dni-plaintext\">[ C ]</div></td></tr><tr><td>1</td><td><div class=\"dni-plaintext\">[ M ]</div></td></tr><tr><td>2</td><td><div class=\"dni-plaintext\">[ Z, N, D, P ]</div></td></tr></tbody></table>"
      ]
     },
     "metadata": {},
     "output_type": "display_data"
    }
   ],
   "source": [
    "var stacks = BuildInitialState(initialStacks);\n",
    "var temp = new Stack<char>();\n",
    "\n",
    "foreach (var instruction in instructions)\n",
    "{\n",
    "    for (var i = 0; i < instruction.Count; i++)\n",
    "    {\n",
    "        temp.Push(stacks[instruction.From - 1]);\n",
    "    }\n",
    "}\n",
    "\n",
    "stacks"
   ]
  },
  {
   "cell_type": "code",
   "execution_count": 173,
   "metadata": {
    "dotnet_interactive": {
     "language": "csharp"
    },
    "vscode": {
     "languageId": "dotnet-interactive.csharp"
    }
   },
   "outputs": [
    {
     "data": {
      "text/plain": [
       "CMZ"
      ]
     },
     "metadata": {},
     "output_type": "display_data"
    }
   ],
   "source": [
    "new string(stacks.Select(s => s.Pop()).ToArray())"
   ]
  }
 ],
 "metadata": {
  "kernelspec": {
   "display_name": ".NET (C#)",
   "language": "C#",
   "name": ".net-csharp"
  },
  "language_info": {
   "file_extension": ".cs",
   "mimetype": "text/x-csharp",
   "name": "C#",
   "pygments_lexer": "csharp",
   "version": "9.0"
  },
  "orig_nbformat": 4
 },
 "nbformat": 4,
 "nbformat_minor": 2
}
