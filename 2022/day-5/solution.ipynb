{
 "cells": [
  {
   "cell_type": "markdown",
   "metadata": {
    "dotnet_interactive": {
     "language": "csharp"
    },
    "polyglot_notebook": {
     "kernelName": "csharp"
    }
   },
   "source": [
    "# Day 5\n",
    "## Part 1"
   ]
  },
  {
   "cell_type": "code",
   "execution_count": null,
   "metadata": {
    "dotnet_interactive": {
     "language": "csharp"
    },
    "vscode": {
     "languageId": "polyglot-notebook"
    }
   },
   "outputs": [],
   "source": [
    "using System.IO;\n",
    "\n",
    "var lines = await File.ReadAllLinesAsync(\"input.txt\");\n",
    "\n",
    "lines"
   ]
  },
  {
   "cell_type": "code",
   "execution_count": null,
   "metadata": {
    "dotnet_interactive": {
     "language": "csharp"
    },
    "vscode": {
     "languageId": "polyglot-notebook"
    }
   },
   "outputs": [],
   "source": [
    "var instructionSplitIndex = -1;\n",
    "\n",
    "for (var i = 0; i < lines.Length; i++)\n",
    "{\n",
    "    if (String.IsNullOrWhiteSpace(lines[i]))\n",
    "    {\n",
    "        instructionSplitIndex = i;\n",
    "        break;\n",
    "    }\n",
    "}\n",
    "\n",
    "instructionSplitIndex"
   ]
  },
  {
   "cell_type": "code",
   "execution_count": null,
   "metadata": {
    "dotnet_interactive": {
     "language": "csharp"
    },
    "vscode": {
     "languageId": "polyglot-notebook"
    }
   },
   "outputs": [],
   "source": [
    "var initialStacks = lines[..instructionSplitIndex].Reverse().ToArray();\n",
    "\n",
    "initialStacks"
   ]
  },
  {
   "cell_type": "code",
   "execution_count": null,
   "metadata": {
    "dotnet_interactive": {
     "language": "csharp"
    },
    "vscode": {
     "languageId": "polyglot-notebook"
    }
   },
   "outputs": [],
   "source": [
    "public static Stack<char>[] BuildInitialState(string[] initialStacks)\n",
    "{\n",
    "    var stackCount = (initialStacks[0].Length + 1) / 4;\n",
    "    var stacks = Enumerable.Range(0, stackCount).Select(_ => new Stack<char>()).ToArray();\n",
    "\n",
    "    foreach (var stackLine in initialStacks[1..])\n",
    "    {\n",
    "        for (var i = 0; i < stackCount; i++)\n",
    "        {\n",
    "            var stackIndex = (i * 4) + 1;\n",
    "            var container = stackLine[stackIndex];\n",
    "            \n",
    "            if (container == ' ')\n",
    "                continue;\n",
    "\n",
    "            stacks[i].Push(container);\n",
    "        }\n",
    "    }\n",
    "\n",
    "    return stacks;\n",
    "}\n",
    "\n",
    "var stacks = BuildInitialState(initialStacks);"
   ]
  },
  {
   "cell_type": "code",
   "execution_count": null,
   "metadata": {
    "dotnet_interactive": {
     "language": "csharp"
    },
    "vscode": {
     "languageId": "polyglot-notebook"
    }
   },
   "outputs": [],
   "source": [
    "var instructionLines = lines[(instructionSplitIndex + 1)..];\n",
    "\n",
    "instructionLines"
   ]
  },
  {
   "cell_type": "code",
   "execution_count": null,
   "metadata": {
    "dotnet_interactive": {
     "language": "csharp"
    },
    "vscode": {
     "languageId": "polyglot-notebook"
    }
   },
   "outputs": [],
   "source": [
    "using System.Text.RegularExpressions;\n",
    "\n",
    "public record Instruction(int Count, int From, int To);\n",
    "\n",
    "var instructions = new List<Instruction>();\n",
    "\n",
    "var instructionExpression = new Regex(@\"move (\\d+) from (\\d+) to (\\d+)\");\n",
    "\n",
    "foreach (var instructionLine in instructionLines)\n",
    "{\n",
    "    var match = instructionExpression.Match(instructionLine);\n",
    "\n",
    "    var count = Int32.Parse(match.Groups[1].Value);\n",
    "    var from = Int32.Parse(match.Groups[2].Value);\n",
    "    var to = Int32.Parse(match.Groups[3].Value);\n",
    "\n",
    "    instructions.Add(new Instruction(count, from, to));\n",
    "}\n",
    "\n",
    "instructions"
   ]
  },
  {
   "cell_type": "code",
   "execution_count": null,
   "metadata": {
    "dotnet_interactive": {
     "language": "csharp"
    },
    "vscode": {
     "languageId": "polyglot-notebook"
    }
   },
   "outputs": [],
   "source": [
    "foreach (var instruction in instructions)\n",
    "{\n",
    "    for (var i = 0; i < instruction.Count; i++)\n",
    "    {\n",
    "        stacks[instruction.To - 1].Push(stacks[instruction.From - 1].Pop());\n",
    "    }\n",
    "}\n",
    "\n",
    "stacks"
   ]
  },
  {
   "cell_type": "code",
   "execution_count": null,
   "metadata": {
    "dotnet_interactive": {
     "language": "csharp"
    },
    "vscode": {
     "languageId": "polyglot-notebook"
    }
   },
   "outputs": [],
   "source": [
    "new string(stacks.Select(s => s.Pop()).ToArray())"
   ]
  },
  {
   "cell_type": "markdown",
   "metadata": {
    "dotnet_interactive": {
     "language": "csharp"
    },
    "polyglot_notebook": {
     "kernelName": "csharp"
    }
   },
   "source": [
    "## Part 2"
   ]
  },
  {
   "cell_type": "code",
   "execution_count": null,
   "metadata": {
    "dotnet_interactive": {
     "language": "csharp"
    },
    "vscode": {
     "languageId": "polyglot-notebook"
    }
   },
   "outputs": [],
   "source": [
    "var stacks = BuildInitialState(initialStacks);\n",
    "var temp = new Stack<char>();\n",
    "\n",
    "foreach (var instruction in instructions)\n",
    "{\n",
    "    for (var i = 0; i < instruction.Count; i++)\n",
    "    {\n",
    "        temp.Push(stacks[instruction.From - 1].Pop());\n",
    "    }\n",
    "\n",
    "    while (temp.Count > 0)\n",
    "    {\n",
    "        stacks[instruction.To - 1].Push(temp.Pop());\n",
    "    }\n",
    "}\n",
    "\n",
    "stacks"
   ]
  },
  {
   "cell_type": "code",
   "execution_count": null,
   "metadata": {
    "dotnet_interactive": {
     "language": "csharp"
    },
    "vscode": {
     "languageId": "polyglot-notebook"
    }
   },
   "outputs": [],
   "source": [
    "new string(stacks.Select(s => s.Pop()).ToArray())"
   ]
  }
 ],
 "metadata": {
  "kernelspec": {
   "display_name": ".NET (C#)",
   "language": "C#",
   "name": ".net-csharp"
  },
  "polyglot_notebook": {
   "kernelInfo": {
    "defaultKernelName": "csharp",
    "items": [
     {
      "aliases": [],
      "name": "csharp"
     },
     {
      "aliases": [
       "js"
      ],
      "languageName": "JavaScript",
      "name": "javascript"
     },
     {
      "aliases": [],
      "name": "webview"
     },
     {
      "aliases": [],
      "languageName": "SQL",
      "name": "sql"
     },
     {
      "aliases": [
       "frontend"
      ],
      "languageName": null,
      "name": "vscode"
     }
    ]
   }
  }
 },
 "nbformat": 4,
 "nbformat_minor": 2
}
