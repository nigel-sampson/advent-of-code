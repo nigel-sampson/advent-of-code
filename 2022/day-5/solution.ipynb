{
 "cells": [
  {
   "cell_type": "markdown",
   "metadata": {},
   "source": [
    "# Day 5\n",
    "## Part 1"
   ]
  },
  {
   "cell_type": "code",
   "execution_count": 184,
   "metadata": {
    "dotnet_interactive": {
     "language": "csharp"
    },
    "vscode": {
     "languageId": "dotnet-interactive.csharp"
    }
   },
   "outputs": [
    {
     "data": {
      "text/html": [
       "<table><thead><tr><th><i>index</i></th><th>value</th></tr></thead><tbody><tr><td>0</td><td>[W] [V]     [P]                    </td></tr><tr><td>1</td><td>[B] [T]     [C] [B]     [G]        </td></tr><tr><td>2</td><td>[G] [S]     [V] [H] [N] [T]        </td></tr><tr><td>3</td><td>[Z] [B] [W] [J] [D] [M] [S]        </td></tr><tr><td>4</td><td>[R] [C] [N] [N] [F] [W] [C]     [W]</td></tr><tr><td>5</td><td>[D] [F] [S] [M] [L] [T] [L] [Z] [Z]</td></tr><tr><td>6</td><td>[C] [W] [B] [G] [S] [V] [F] [D] [N]</td></tr><tr><td>7</td><td>[V] [G] [C] [Q] [T] [J] [P] [B] [M]</td></tr><tr><td>8</td><td> 1   2   3   4   5   6   7   8   9 </td></tr><tr><td>9</td><td></td></tr><tr><td>10</td><td>move 2 from 8 to 4</td></tr><tr><td>11</td><td>move 2 from 7 to 3</td></tr><tr><td>12</td><td>move 2 from 9 to 2</td></tr><tr><td>13</td><td>move 4 from 1 to 9</td></tr><tr><td>14</td><td>move 1 from 7 to 8</td></tr><tr><td>15</td><td>move 1 from 9 to 6</td></tr><tr><td>16</td><td>move 6 from 6 to 1</td></tr><tr><td>17</td><td>move 6 from 1 to 6</td></tr><tr><td>18</td><td>move 2 from 7 to 1</td></tr><tr><td>19</td><td>move 9 from 4 to 1</td></tr><tr><td colspan=\"2\"><i>(492 more)</i></td></tr></tbody></table>"
      ]
     },
     "metadata": {},
     "output_type": "display_data"
    }
   ],
   "source": [
    "using System.IO;\n",
    "\n",
    "var lines = await File.ReadAllLinesAsync(\"input.txt\");\n",
    "\n",
    "lines"
   ]
  },
  {
   "cell_type": "code",
   "execution_count": 185,
   "metadata": {
    "dotnet_interactive": {
     "language": "csharp"
    },
    "vscode": {
     "languageId": "dotnet-interactive.csharp"
    }
   },
   "outputs": [
    {
     "data": {
      "text/html": [
       "<div class=\"dni-plaintext\">9</div>"
      ]
     },
     "metadata": {},
     "output_type": "display_data"
    }
   ],
   "source": [
    "var instructionSplitIndex = -1;\n",
    "\n",
    "for (var i = 0; i < lines.Length; i++)\n",
    "{\n",
    "    if (String.IsNullOrWhiteSpace(lines[i]))\n",
    "    {\n",
    "        instructionSplitIndex = i;\n",
    "        break;\n",
    "    }\n",
    "}\n",
    "\n",
    "instructionSplitIndex"
   ]
  },
  {
   "cell_type": "code",
   "execution_count": 186,
   "metadata": {
    "dotnet_interactive": {
     "language": "csharp"
    },
    "vscode": {
     "languageId": "dotnet-interactive.csharp"
    }
   },
   "outputs": [
    {
     "data": {
      "text/html": [
       "<table><thead><tr><th><i>index</i></th><th>value</th></tr></thead><tbody><tr><td>0</td><td> 1   2   3   4   5   6   7   8   9 </td></tr><tr><td>1</td><td>[V] [G] [C] [Q] [T] [J] [P] [B] [M]</td></tr><tr><td>2</td><td>[C] [W] [B] [G] [S] [V] [F] [D] [N]</td></tr><tr><td>3</td><td>[D] [F] [S] [M] [L] [T] [L] [Z] [Z]</td></tr><tr><td>4</td><td>[R] [C] [N] [N] [F] [W] [C]     [W]</td></tr><tr><td>5</td><td>[Z] [B] [W] [J] [D] [M] [S]        </td></tr><tr><td>6</td><td>[G] [S]     [V] [H] [N] [T]        </td></tr><tr><td>7</td><td>[B] [T]     [C] [B]     [G]        </td></tr><tr><td>8</td><td>[W] [V]     [P]                    </td></tr></tbody></table>"
      ]
     },
     "metadata": {},
     "output_type": "display_data"
    }
   ],
   "source": [
    "var initialStacks = lines[..instructionSplitIndex].Reverse().ToArray();\n",
    "\n",
    "initialStacks"
   ]
  },
  {
   "cell_type": "code",
   "execution_count": 187,
   "metadata": {
    "dotnet_interactive": {
     "language": "csharp"
    },
    "vscode": {
     "languageId": "dotnet-interactive.csharp"
    }
   },
   "outputs": [],
   "source": [
    "public static Stack<char>[] BuildInitialState(string[] initialStacks)\n",
    "{\n",
    "    var stackCount = (initialStacks[0].Length + 1) / 4;\n",
    "    var stacks = Enumerable.Range(0, stackCount).Select(_ => new Stack<char>()).ToArray();\n",
    "\n",
    "    foreach (var stackLine in initialStacks[1..])\n",
    "    {\n",
    "        for (var i = 0; i < stackCount; i++)\n",
    "        {\n",
    "            var stackIndex = (i * 4) + 1;\n",
    "            var container = stackLine[stackIndex];\n",
    "            \n",
    "            if (container == ' ')\n",
    "                continue;\n",
    "\n",
    "            stacks[i].Push(container);\n",
    "        }\n",
    "    }\n",
    "\n",
    "    return stacks;\n",
    "}\n",
    "\n",
    "var stacks = BuildInitialState(initialStacks);"
   ]
  },
  {
   "cell_type": "code",
   "execution_count": 188,
   "metadata": {
    "dotnet_interactive": {
     "language": "csharp"
    },
    "vscode": {
     "languageId": "dotnet-interactive.csharp"
    }
   },
   "outputs": [
    {
     "data": {
      "text/html": [
       "<table><thead><tr><th><i>index</i></th><th>value</th></tr></thead><tbody><tr><td>0</td><td>move 2 from 8 to 4</td></tr><tr><td>1</td><td>move 2 from 7 to 3</td></tr><tr><td>2</td><td>move 2 from 9 to 2</td></tr><tr><td>3</td><td>move 4 from 1 to 9</td></tr><tr><td>4</td><td>move 1 from 7 to 8</td></tr><tr><td>5</td><td>move 1 from 9 to 6</td></tr><tr><td>6</td><td>move 6 from 6 to 1</td></tr><tr><td>7</td><td>move 6 from 1 to 6</td></tr><tr><td>8</td><td>move 2 from 7 to 1</td></tr><tr><td>9</td><td>move 9 from 4 to 1</td></tr><tr><td>10</td><td>move 6 from 2 to 7</td></tr><tr><td>11</td><td>move 5 from 9 to 7</td></tr><tr><td>12</td><td>move 7 from 3 to 7</td></tr><tr><td>13</td><td>move 19 from 7 to 9</td></tr><tr><td>14</td><td>move 1 from 7 to 1</td></tr><tr><td>15</td><td>move 3 from 6 to 8</td></tr><tr><td>16</td><td>move 4 from 5 to 6</td></tr><tr><td>17</td><td>move 1 from 4 to 1</td></tr><tr><td>18</td><td>move 2 from 5 to 2</td></tr><tr><td>19</td><td>move 8 from 9 to 7</td></tr><tr><td colspan=\"2\"><i>(482 more)</i></td></tr></tbody></table>"
      ]
     },
     "metadata": {},
     "output_type": "display_data"
    }
   ],
   "source": [
    "var instructionLines = lines[(instructionSplitIndex + 1)..];\n",
    "\n",
    "instructionLines"
   ]
  },
  {
   "cell_type": "code",
   "execution_count": 189,
   "metadata": {
    "dotnet_interactive": {
     "language": "csharp"
    },
    "vscode": {
     "languageId": "dotnet-interactive.csharp"
    }
   },
   "outputs": [
    {
     "data": {
      "text/html": [
       "<table><thead><tr><th><i>index</i></th><th>Count</th><th>From</th><th>To</th></tr></thead><tbody><tr><td>0</td><td><div class=\"dni-plaintext\">2</div></td><td><div class=\"dni-plaintext\">8</div></td><td><div class=\"dni-plaintext\">4</div></td></tr><tr><td>1</td><td><div class=\"dni-plaintext\">2</div></td><td><div class=\"dni-plaintext\">7</div></td><td><div class=\"dni-plaintext\">3</div></td></tr><tr><td>2</td><td><div class=\"dni-plaintext\">2</div></td><td><div class=\"dni-plaintext\">9</div></td><td><div class=\"dni-plaintext\">2</div></td></tr><tr><td>3</td><td><div class=\"dni-plaintext\">4</div></td><td><div class=\"dni-plaintext\">1</div></td><td><div class=\"dni-plaintext\">9</div></td></tr><tr><td>4</td><td><div class=\"dni-plaintext\">1</div></td><td><div class=\"dni-plaintext\">7</div></td><td><div class=\"dni-plaintext\">8</div></td></tr><tr><td>5</td><td><div class=\"dni-plaintext\">1</div></td><td><div class=\"dni-plaintext\">9</div></td><td><div class=\"dni-plaintext\">6</div></td></tr><tr><td>6</td><td><div class=\"dni-plaintext\">6</div></td><td><div class=\"dni-plaintext\">6</div></td><td><div class=\"dni-plaintext\">1</div></td></tr><tr><td>7</td><td><div class=\"dni-plaintext\">6</div></td><td><div class=\"dni-plaintext\">1</div></td><td><div class=\"dni-plaintext\">6</div></td></tr><tr><td>8</td><td><div class=\"dni-plaintext\">2</div></td><td><div class=\"dni-plaintext\">7</div></td><td><div class=\"dni-plaintext\">1</div></td></tr><tr><td>9</td><td><div class=\"dni-plaintext\">9</div></td><td><div class=\"dni-plaintext\">4</div></td><td><div class=\"dni-plaintext\">1</div></td></tr><tr><td>10</td><td><div class=\"dni-plaintext\">6</div></td><td><div class=\"dni-plaintext\">2</div></td><td><div class=\"dni-plaintext\">7</div></td></tr><tr><td>11</td><td><div class=\"dni-plaintext\">5</div></td><td><div class=\"dni-plaintext\">9</div></td><td><div class=\"dni-plaintext\">7</div></td></tr><tr><td>12</td><td><div class=\"dni-plaintext\">7</div></td><td><div class=\"dni-plaintext\">3</div></td><td><div class=\"dni-plaintext\">7</div></td></tr><tr><td>13</td><td><div class=\"dni-plaintext\">19</div></td><td><div class=\"dni-plaintext\">7</div></td><td><div class=\"dni-plaintext\">9</div></td></tr><tr><td>14</td><td><div class=\"dni-plaintext\">1</div></td><td><div class=\"dni-plaintext\">7</div></td><td><div class=\"dni-plaintext\">1</div></td></tr><tr><td>15</td><td><div class=\"dni-plaintext\">3</div></td><td><div class=\"dni-plaintext\">6</div></td><td><div class=\"dni-plaintext\">8</div></td></tr><tr><td>16</td><td><div class=\"dni-plaintext\">4</div></td><td><div class=\"dni-plaintext\">5</div></td><td><div class=\"dni-plaintext\">6</div></td></tr><tr><td>17</td><td><div class=\"dni-plaintext\">1</div></td><td><div class=\"dni-plaintext\">4</div></td><td><div class=\"dni-plaintext\">1</div></td></tr><tr><td>18</td><td><div class=\"dni-plaintext\">2</div></td><td><div class=\"dni-plaintext\">5</div></td><td><div class=\"dni-plaintext\">2</div></td></tr><tr><td>19</td><td><div class=\"dni-plaintext\">8</div></td><td><div class=\"dni-plaintext\">9</div></td><td><div class=\"dni-plaintext\">7</div></td></tr><tr><td colspan=\"4\"><i>(482 more)</i></td></tr></tbody></table>"
      ]
     },
     "metadata": {},
     "output_type": "display_data"
    }
   ],
   "source": [
    "using System.Text.RegularExpressions;\n",
    "\n",
    "public record Instruction(int Count, int From, int To);\n",
    "\n",
    "var instructions = new List<Instruction>();\n",
    "\n",
    "var instructionExpression = new Regex(@\"move (\\d+) from (\\d+) to (\\d+)\");\n",
    "\n",
    "foreach (var instructionLine in instructionLines)\n",
    "{\n",
    "    var match = instructionExpression.Match(instructionLine);\n",
    "\n",
    "    var count = Int32.Parse(match.Groups[1].Value);\n",
    "    var from = Int32.Parse(match.Groups[2].Value);\n",
    "    var to = Int32.Parse(match.Groups[3].Value);\n",
    "\n",
    "    instructions.Add(new Instruction(count, from, to));\n",
    "}\n",
    "\n",
    "instructions"
   ]
  },
  {
   "cell_type": "code",
   "execution_count": 190,
   "metadata": {
    "dotnet_interactive": {
     "language": "csharp"
    },
    "vscode": {
     "languageId": "dotnet-interactive.csharp"
    }
   },
   "outputs": [
    {
     "data": {
      "text/html": [
       "<table><thead><tr><th><i>index</i></th><th>value</th></tr></thead><tbody><tr><td>0</td><td><div class=\"dni-plaintext\">[ T, C, C, J, L ]</div></td></tr><tr><td>1</td><td><div class=\"dni-plaintext\">[ B ]</div></td></tr><tr><td>2</td><td><div class=\"dni-plaintext\">[ V ]</div></td></tr><tr><td>3</td><td><div class=\"dni-plaintext\">[ F ]</div></td></tr><tr><td>4</td><td><div class=\"dni-plaintext\">[ V, Z, S, Q, B, T, G, T, N, S, B, D, D, H, W, Z, C, T, W, J ]</div></td></tr><tr><td>5</td><td><div class=\"dni-plaintext\">[ D, S ]</div></td></tr><tr><td>6</td><td><div class=\"dni-plaintext\">[ Z, W, G, W, V, M, B, V, C, P, W, G ]</div></td></tr><tr><td>7</td><td><div class=\"dni-plaintext\">[ P ]</div></td></tr><tr><td>8</td><td><div class=\"dni-plaintext\">[ N, B, M, N, N, M, R, S, F, L, G, F, C ]</div></td></tr></tbody></table>"
      ]
     },
     "metadata": {},
     "output_type": "display_data"
    }
   ],
   "source": [
    "foreach (var instruction in instructions)\n",
    "{\n",
    "    for (var i = 0; i < instruction.Count; i++)\n",
    "    {\n",
    "        stacks[instruction.To - 1].Push(stacks[instruction.From - 1].Pop());\n",
    "    }\n",
    "}\n",
    "\n",
    "stacks"
   ]
  },
  {
   "cell_type": "code",
   "execution_count": 191,
   "metadata": {
    "dotnet_interactive": {
     "language": "csharp"
    },
    "vscode": {
     "languageId": "dotnet-interactive.csharp"
    }
   },
   "outputs": [
    {
     "data": {
      "text/plain": [
       "TBVFVDZPN"
      ]
     },
     "metadata": {},
     "output_type": "display_data"
    }
   ],
   "source": [
    "new string(stacks.Select(s => s.Pop()).ToArray())"
   ]
  },
  {
   "cell_type": "markdown",
   "metadata": {},
   "source": [
    "## Part 2"
   ]
  },
  {
   "cell_type": "code",
   "execution_count": 192,
   "metadata": {
    "dotnet_interactive": {
     "language": "csharp"
    },
    "vscode": {
     "languageId": "dotnet-interactive.csharp"
    }
   },
   "outputs": [
    {
     "data": {
      "text/html": [
       "<table><thead><tr><th><i>index</i></th><th>value</th></tr></thead><tbody><tr><td>0</td><td><div class=\"dni-plaintext\">[ V, C, N, W, G ]</div></td></tr><tr><td>1</td><td><div class=\"dni-plaintext\">[ L ]</div></td></tr><tr><td>2</td><td><div class=\"dni-plaintext\">[ C ]</div></td></tr><tr><td>3</td><td><div class=\"dni-plaintext\">[ W ]</div></td></tr><tr><td>4</td><td><div class=\"dni-plaintext\">[ H, N, W, C, B, T, F, C, D, M, T, B, J, V, B, W, P, N, B, M ]</div></td></tr><tr><td>5</td><td><div class=\"dni-plaintext\">[ T, F ]</div></td></tr><tr><td>6</td><td><div class=\"dni-plaintext\">[ D, S, T, S, V, B, G, Z, D, W, C, N ]</div></td></tr><tr><td>7</td><td><div class=\"dni-plaintext\">[ S ]</div></td></tr><tr><td>8</td><td><div class=\"dni-plaintext\">[ Z, V, Z, J, S, G, Q, F, L, R, P, G, M ]</div></td></tr></tbody></table>"
      ]
     },
     "metadata": {},
     "output_type": "display_data"
    }
   ],
   "source": [
    "var stacks = BuildInitialState(initialStacks);\n",
    "var temp = new Stack<char>();\n",
    "\n",
    "foreach (var instruction in instructions)\n",
    "{\n",
    "    for (var i = 0; i < instruction.Count; i++)\n",
    "    {\n",
    "        temp.Push(stacks[instruction.From - 1].Pop());\n",
    "    }\n",
    "\n",
    "    while (temp.Count > 0)\n",
    "    {\n",
    "        stacks[instruction.To - 1].Push(temp.Pop());\n",
    "    }\n",
    "}\n",
    "\n",
    "stacks"
   ]
  },
  {
   "cell_type": "code",
   "execution_count": 193,
   "metadata": {
    "dotnet_interactive": {
     "language": "csharp"
    },
    "vscode": {
     "languageId": "dotnet-interactive.csharp"
    }
   },
   "outputs": [
    {
     "data": {
      "text/plain": [
       "VLCWHTDSZ"
      ]
     },
     "metadata": {},
     "output_type": "display_data"
    }
   ],
   "source": [
    "new string(stacks.Select(s => s.Pop()).ToArray())"
   ]
  }
 ],
 "metadata": {
  "kernelspec": {
   "display_name": ".NET (C#)",
   "language": "C#",
   "name": ".net-csharp"
  },
  "language_info": {
   "file_extension": ".cs",
   "mimetype": "text/x-csharp",
   "name": "C#",
   "pygments_lexer": "csharp",
   "version": "9.0"
  },
  "orig_nbformat": 4
 },
 "nbformat": 4,
 "nbformat_minor": 2
}
