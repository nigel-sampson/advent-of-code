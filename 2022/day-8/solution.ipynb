{
 "cells": [
  {
   "attachments": {},
   "cell_type": "markdown",
   "metadata": {
    "dotnet_interactive": {
     "language": "csharp"
    },
    "polyglot_notebook": {
     "kernelName": "csharp"
    }
   },
   "source": [
    "# Day 8"
   ]
  },
  {
   "cell_type": "code",
   "execution_count": 311,
   "metadata": {
    "dotnet_interactive": {
     "language": "csharp"
    },
    "polyglot_notebook": {
     "kernelName": "csharp"
    },
    "vscode": {
     "languageId": "polyglot-notebook"
    }
   },
   "outputs": [
    {
     "data": {
      "text/html": [
       "<table><thead><tr><th><i>index</i></th><th>value</th></tr></thead><tbody><tr><td>0</td><td>200210101302123001201232003214413304042424024222111455334421333412020113121332322101331130101222121</td></tr><tr><td>1</td><td>120100002010203210130421301201404231101254535242322112224524254031333224202413331320010302202022220</td></tr><tr><td>2</td><td>001200100200133300103241144403033124133341435524324143423341133252144040000423121430200100022211211</td></tr><tr><td>3</td><td>000012321202320024030320421230202213131514345325422513145221212451233202023402411040301113132131121</td></tr><tr><td>4</td><td>111103022312211340103042313022513413532253114352113252432213335135141552003023313142423321320321212</td></tr><tr><td>5</td><td>012112331020102411442404102132241553154421513555415233312432515445154422402444314033003303323320102</td></tr><tr><td>6</td><td>200110201230142322043222345241215442224221523534521123322555135454422121142320102300340211100120310</td></tr><tr><td>7</td><td>120012121330311223132012342543213553334431544155643463443115441515143121132442433102420433301221030</td></tr><tr><td>8</td><td>232202001121031432403445341332243414414443326545556526423425612114153351234111432130314202330220010</td></tr><tr><td>9</td><td>133033302004430221300431213144135422424546344243432363665246244341243432352514332142044434023131003</td></tr><tr><td>10</td><td>323030003440212122341123551231453352464334362343245665335563565343421512431425213111441304340011231</td></tr><tr><td>11</td><td>003000034413321402514254435224115366533425244663634336625232232553226312522142535212414040004113221</td></tr><tr><td>12</td><td>203203234020411021411532552144456644553434362455342664624546642245543563524451523133334201141411113</td></tr><tr><td>13</td><td>103032442424101341214421543433253563535422262333555222632224462463423526635422354541113034433423000</td></tr><tr><td>14</td><td>020133314440123532124351233325245665424345546323747756264656566346366665333444354252523314300303020</td></tr><tr><td>15</td><td>303102341103425544443131253325266522334544545666744335557473366256323634266213415324324341134211112</td></tr><tr><td>16</td><td>023044020203451414535535625633224445223364357435363343536455577666362444542245113553311434011140201</td></tr><tr><td>17</td><td>130031020304324235255516652533544625454347643363434554557436654343442356543323225524232341230421320</td></tr><tr><td>18</td><td>220403302205252431242554332553635575345744474647573376655365465333365246645632425211423335322131241</td></tr><tr><td>19</td><td>214400202003451322143346242334324356456753434655775663756755654555657245563342333124515412311131042</td></tr><tr><td colspan=\"2\"><i>(79 more)</i></td></tr></tbody></table><style>\r\n",
       ".dni-code-hint {\r\n",
       "    font-style: italic;\r\n",
       "    overflow: hidden;\r\n",
       "    white-space: nowrap;\r\n",
       "}\r\n",
       ".dni-treeview {\r\n",
       "    white-space: nowrap;\r\n",
       "}\r\n",
       ".dni-treeview td {\r\n",
       "    vertical-align: top;\r\n",
       "    text-align: start;\r\n",
       "}\r\n",
       "details.dni-treeview {\r\n",
       "    padding-left: 1em;\r\n",
       "}\r\n",
       "table td {\r\n",
       "    text-align: start;\r\n",
       "}\r\n",
       "table tr { \r\n",
       "    vertical-align: top; \r\n",
       "    margin: 0em 0px;\r\n",
       "}\r\n",
       "table tr td pre \r\n",
       "{ \r\n",
       "    vertical-align: top !important; \r\n",
       "    margin: 0em 0px !important;\r\n",
       "} \r\n",
       "table th {\r\n",
       "    text-align: start;\r\n",
       "}\r\n",
       "</style>"
      ]
     },
     "metadata": {},
     "output_type": "display_data"
    }
   ],
   "source": [
    "var input = await System.IO.File.ReadAllLinesAsync(\"input.txt\");\n",
    "\n",
    "input"
   ]
  },
  {
   "cell_type": "code",
   "execution_count": 312,
   "metadata": {
    "dotnet_interactive": {
     "language": "csharp"
    },
    "polyglot_notebook": {
     "kernelName": "csharp"
    },
    "vscode": {
     "languageId": "polyglot-notebook"
    }
   },
   "outputs": [
    {
     "data": {
      "text/html": [
       "<table><thead><tr><th><i>index</i></th><th>value</th></tr></thead><tbody><tr><td>0</td><td><div class=\"dni-plaintext\"><pre>[ 2, 0, 0, 2, 1, 0, 1, 0, 1, 3, 0, 2, 1, 2, 3, 0, 0, 1, 2, 0 ... (79 more) ]</pre></div></td></tr><tr><td>1</td><td><div class=\"dni-plaintext\"><pre>[ 1, 2, 0, 1, 0, 0, 0, 0, 2, 0, 1, 0, 2, 0, 3, 2, 1, 0, 1, 3 ... (79 more) ]</pre></div></td></tr><tr><td>2</td><td><div class=\"dni-plaintext\"><pre>[ 0, 0, 1, 2, 0, 0, 1, 0, 0, 2, 0, 0, 1, 3, 3, 3, 0, 0, 1, 0 ... (79 more) ]</pre></div></td></tr><tr><td>3</td><td><div class=\"dni-plaintext\"><pre>[ 0, 0, 0, 0, 1, 2, 3, 2, 1, 2, 0, 2, 3, 2, 0, 0, 2, 4, 0, 3 ... (79 more) ]</pre></div></td></tr><tr><td>4</td><td><div class=\"dni-plaintext\"><pre>[ 1, 1, 1, 1, 0, 3, 0, 2, 2, 3, 1, 2, 2, 1, 1, 3, 4, 0, 1, 0 ... (79 more) ]</pre></div></td></tr><tr><td>5</td><td><div class=\"dni-plaintext\"><pre>[ 0, 1, 2, 1, 1, 2, 3, 3, 1, 0, 2, 0, 1, 0, 2, 4, 1, 1, 4, 4 ... (79 more) ]</pre></div></td></tr><tr><td>6</td><td><div class=\"dni-plaintext\"><pre>[ 2, 0, 0, 1, 1, 0, 2, 0, 1, 2, 3, 0, 1, 4, 2, 3, 2, 2, 0, 4 ... (79 more) ]</pre></div></td></tr><tr><td>7</td><td><div class=\"dni-plaintext\"><pre>[ 1, 2, 0, 0, 1, 2, 1, 2, 1, 3, 3, 0, 3, 1, 1, 2, 2, 3, 1, 3 ... (79 more) ]</pre></div></td></tr><tr><td>8</td><td><div class=\"dni-plaintext\"><pre>[ 2, 3, 2, 2, 0, 2, 0, 0, 1, 1, 2, 1, 0, 3, 1, 4, 3, 2, 4, 0 ... (79 more) ]</pre></div></td></tr><tr><td>9</td><td><div class=\"dni-plaintext\"><pre>[ 1, 3, 3, 0, 3, 3, 3, 0, 2, 0, 0, 4, 4, 3, 0, 2, 2, 1, 3, 0 ... (79 more) ]</pre></div></td></tr><tr><td>10</td><td><div class=\"dni-plaintext\"><pre>[ 3, 2, 3, 0, 3, 0, 0, 0, 3, 4, 4, 0, 2, 1, 2, 1, 2, 2, 3, 4 ... (79 more) ]</pre></div></td></tr><tr><td>11</td><td><div class=\"dni-plaintext\"><pre>[ 0, 0, 3, 0, 0, 0, 0, 3, 4, 4, 1, 3, 3, 2, 1, 4, 0, 2, 5, 1 ... (79 more) ]</pre></div></td></tr><tr><td>12</td><td><div class=\"dni-plaintext\"><pre>[ 2, 0, 3, 2, 0, 3, 2, 3, 4, 0, 2, 0, 4, 1, 1, 0, 2, 1, 4, 1 ... (79 more) ]</pre></div></td></tr><tr><td>13</td><td><div class=\"dni-plaintext\"><pre>[ 1, 0, 3, 0, 3, 2, 4, 4, 2, 4, 2, 4, 1, 0, 1, 3, 4, 1, 2, 1 ... (79 more) ]</pre></div></td></tr><tr><td>14</td><td><div class=\"dni-plaintext\"><pre>[ 0, 2, 0, 1, 3, 3, 3, 1, 4, 4, 4, 0, 1, 2, 3, 5, 3, 2, 1, 2 ... (79 more) ]</pre></div></td></tr><tr><td>15</td><td><div class=\"dni-plaintext\"><pre>[ 3, 0, 3, 1, 0, 2, 3, 4, 1, 1, 0, 3, 4, 2, 5, 5, 4, 4, 4, 4 ... (79 more) ]</pre></div></td></tr><tr><td>16</td><td><div class=\"dni-plaintext\"><pre>[ 0, 2, 3, 0, 4, 4, 0, 2, 0, 2, 0, 3, 4, 5, 1, 4, 1, 4, 5, 3 ... (79 more) ]</pre></div></td></tr><tr><td>17</td><td><div class=\"dni-plaintext\"><pre>[ 1, 3, 0, 0, 3, 1, 0, 2, 0, 3, 0, 4, 3, 2, 4, 2, 3, 5, 2, 5 ... (79 more) ]</pre></div></td></tr><tr><td>18</td><td><div class=\"dni-plaintext\"><pre>[ 2, 2, 0, 4, 0, 3, 3, 0, 2, 2, 0, 5, 2, 5, 2, 4, 3, 1, 2, 4 ... (79 more) ]</pre></div></td></tr><tr><td>19</td><td><div class=\"dni-plaintext\"><pre>[ 2, 1, 4, 4, 0, 0, 2, 0, 2, 0, 0, 3, 4, 5, 1, 3, 2, 2, 1, 4 ... (79 more) ]</pre></div></td></tr><tr><td colspan=\"2\"><i>(79 more)</i></td></tr></tbody></table><style>\r\n",
       ".dni-code-hint {\r\n",
       "    font-style: italic;\r\n",
       "    overflow: hidden;\r\n",
       "    white-space: nowrap;\r\n",
       "}\r\n",
       ".dni-treeview {\r\n",
       "    white-space: nowrap;\r\n",
       "}\r\n",
       ".dni-treeview td {\r\n",
       "    vertical-align: top;\r\n",
       "    text-align: start;\r\n",
       "}\r\n",
       "details.dni-treeview {\r\n",
       "    padding-left: 1em;\r\n",
       "}\r\n",
       "table td {\r\n",
       "    text-align: start;\r\n",
       "}\r\n",
       "table tr { \r\n",
       "    vertical-align: top; \r\n",
       "    margin: 0em 0px;\r\n",
       "}\r\n",
       "table tr td pre \r\n",
       "{ \r\n",
       "    vertical-align: top !important; \r\n",
       "    margin: 0em 0px !important;\r\n",
       "} \r\n",
       "table th {\r\n",
       "    text-align: start;\r\n",
       "}\r\n",
       "</style>"
      ]
     },
     "metadata": {},
     "output_type": "display_data"
    }
   ],
   "source": [
    "var maxY = input[0].Length;\n",
    "var maxX = input.Length;\n",
    "\n",
    "var heights = new int[maxX][];\n",
    "\n",
    "for (var x = 0; x < maxX; x++)\n",
    "{\n",
    "    heights[x] = new int[maxY];\n",
    "\n",
    "    for (var y = 0; y < maxY; y++)\n",
    "    {\n",
    "        heights[x][y] = Int32.Parse(input[x][y].ToString());\n",
    "    }\n",
    "}\n",
    "\n",
    "heights"
   ]
  },
  {
   "cell_type": "code",
   "execution_count": 313,
   "metadata": {
    "dotnet_interactive": {
     "language": "csharp"
    },
    "polyglot_notebook": {
     "kernelName": "csharp"
    },
    "vscode": {
     "languageId": "polyglot-notebook"
    }
   },
   "outputs": [
    {
     "data": {
      "text/html": [
       "<div class=\"dni-plaintext\"><pre>1792</pre></div><style>\r\n",
       ".dni-code-hint {\r\n",
       "    font-style: italic;\r\n",
       "    overflow: hidden;\r\n",
       "    white-space: nowrap;\r\n",
       "}\r\n",
       ".dni-treeview {\r\n",
       "    white-space: nowrap;\r\n",
       "}\r\n",
       ".dni-treeview td {\r\n",
       "    vertical-align: top;\r\n",
       "    text-align: start;\r\n",
       "}\r\n",
       "details.dni-treeview {\r\n",
       "    padding-left: 1em;\r\n",
       "}\r\n",
       "table td {\r\n",
       "    text-align: start;\r\n",
       "}\r\n",
       "table tr { \r\n",
       "    vertical-align: top; \r\n",
       "    margin: 0em 0px;\r\n",
       "}\r\n",
       "table tr td pre \r\n",
       "{ \r\n",
       "    vertical-align: top !important; \r\n",
       "    margin: 0em 0px !important;\r\n",
       "} \r\n",
       "table th {\r\n",
       "    text-align: start;\r\n",
       "}\r\n",
       "</style>"
      ]
     },
     "metadata": {},
     "output_type": "display_data"
    }
   ],
   "source": [
    "var visibleTrees = new HashSet<(int, int)>();\n",
    "\n",
    "for (var x = 0; x < maxX; x++)\n",
    "{\n",
    "    var heighest = -1;\n",
    "\n",
    "    for (var y = 0; y < maxY; y++)\n",
    "    {\n",
    "        if (heights[x][y] > heighest)\n",
    "        {\n",
    "            heighest = heights[x][y];\n",
    "            visibleTrees.Add((x, y));\n",
    "        }\n",
    "    }\n",
    "\n",
    "    heighest = -1;\n",
    "\n",
    "    for (var y = maxY - 1; y >= 0; y--)\n",
    "    {\n",
    "        if (heights[x][y] > heighest)\n",
    "        {\n",
    "            heighest = heights[x][y];\n",
    "            visibleTrees.Add((x, y));\n",
    "        }\n",
    "    }\n",
    "}\n",
    "\n",
    "for (var y = 0; y < maxY; y++)\n",
    "{\n",
    "    var heighest = -1;\n",
    "\n",
    "    for (var x = 0; x < maxX; x++)\n",
    "    {\n",
    "        if (heights[x][y] > heighest)\n",
    "        {\n",
    "            heighest = heights[x][y];\n",
    "            visibleTrees.Add((x, y));\n",
    "        }\n",
    "    }\n",
    "\n",
    "    heighest = -1;\n",
    "\n",
    "    for (var x = maxX - 1; x >= 0; x--)\n",
    "    {\n",
    "        if (heights[x][y] > heighest)\n",
    "        {\n",
    "            heighest = heights[x][y];\n",
    "            visibleTrees.Add((x, y));\n",
    "        }\n",
    "    }\n",
    "}\n",
    "\n",
    "visibleTrees.Count"
   ]
  },
  {
   "attachments": {},
   "cell_type": "markdown",
   "metadata": {
    "dotnet_interactive": {
     "language": "csharp"
    },
    "polyglot_notebook": {
     "kernelName": "csharp"
    }
   },
   "source": [
    "## Part 2"
   ]
  },
  {
   "cell_type": "code",
   "execution_count": 314,
   "metadata": {
    "dotnet_interactive": {
     "language": "csharp"
    },
    "polyglot_notebook": {
     "kernelName": "csharp"
    },
    "vscode": {
     "languageId": "polyglot-notebook"
    }
   },
   "outputs": [
    {
     "data": {
      "text/html": [
       "<table><thead><tr><th><i>index</i></th><th>value</th></tr></thead><tbody><tr><td>0</td><td><div class=\"dni-plaintext\"><pre>1</pre></div></td></tr><tr><td>1</td><td><div class=\"dni-plaintext\"><pre>2</pre></div></td></tr><tr><td>2</td><td><div class=\"dni-plaintext\"><pre>0</pre></div></td></tr><tr><td>3</td><td><div class=\"dni-plaintext\"><pre>0</pre></div></td></tr><tr><td>4</td><td><div class=\"dni-plaintext\"><pre>2</pre></div></td></tr><tr><td>5</td><td><div class=\"dni-plaintext\"><pre>3</pre></div></td></tr><tr><td>6</td><td><div class=\"dni-plaintext\"><pre>3</pre></div></td></tr><tr><td>7</td><td><div class=\"dni-plaintext\"><pre>3</pre></div></td></tr><tr><td>8</td><td><div class=\"dni-plaintext\"><pre>3</pre></div></td></tr><tr><td>9</td><td><div class=\"dni-plaintext\"><pre>3</pre></div></td></tr><tr><td>10</td><td><div class=\"dni-plaintext\"><pre>0</pre></div></td></tr><tr><td>11</td><td><div class=\"dni-plaintext\"><pre>3</pre></div></td></tr><tr><td>12</td><td><div class=\"dni-plaintext\"><pre>3</pre></div></td></tr><tr><td>13</td><td><div class=\"dni-plaintext\"><pre>0</pre></div></td></tr><tr><td>14</td><td><div class=\"dni-plaintext\"><pre>0</pre></div></td></tr><tr><td>15</td><td><div class=\"dni-plaintext\"><pre>4</pre></div></td></tr><tr><td>16</td><td><div class=\"dni-plaintext\"><pre>4</pre></div></td></tr><tr><td>17</td><td><div class=\"dni-plaintext\"><pre>1</pre></div></td></tr><tr><td>18</td><td><div class=\"dni-plaintext\"><pre>1</pre></div></td></tr><tr><td>19</td><td><div class=\"dni-plaintext\"><pre>0</pre></div></td></tr><tr><td colspan=\"2\"><i>... (more)</i></td></tr></tbody></table><style>\r\n",
       ".dni-code-hint {\r\n",
       "    font-style: italic;\r\n",
       "    overflow: hidden;\r\n",
       "    white-space: nowrap;\r\n",
       "}\r\n",
       ".dni-treeview {\r\n",
       "    white-space: nowrap;\r\n",
       "}\r\n",
       ".dni-treeview td {\r\n",
       "    vertical-align: top;\r\n",
       "    text-align: start;\r\n",
       "}\r\n",
       "details.dni-treeview {\r\n",
       "    padding-left: 1em;\r\n",
       "}\r\n",
       "table td {\r\n",
       "    text-align: start;\r\n",
       "}\r\n",
       "table tr { \r\n",
       "    vertical-align: top; \r\n",
       "    margin: 0em 0px;\r\n",
       "}\r\n",
       "table tr td pre \r\n",
       "{ \r\n",
       "    vertical-align: top !important; \r\n",
       "    margin: 0em 0px !important;\r\n",
       "} \r\n",
       "table th {\r\n",
       "    text-align: start;\r\n",
       "}\r\n",
       "</style>"
      ]
     },
     "metadata": {},
     "output_type": "display_data"
    }
   ],
   "source": [
    "public enum Direction { Up, Down, Left, Right }\n",
    "\n",
    "public IEnumerable<int> GetSequence(int initialX, int initialY, Direction direction)\n",
    "{\n",
    "    if (direction == Direction.Down)\n",
    "    {\n",
    "        for (var x = initialX + 1; x < maxX; x++)\n",
    "        {\n",
    "            yield return heights[x][initialY];\n",
    "        }\n",
    "    }\n",
    "    else if (direction == Direction.Up)\n",
    "    {\n",
    "        for (var x = initialX - 1; x >= 0; x--)\n",
    "        {\n",
    "            yield return heights[x][initialY];\n",
    "        }\n",
    "    }\n",
    "    else if (direction == Direction.Right)\n",
    "    {\n",
    "        for (var y = initialY + 1; y < maxY; y++)\n",
    "        {\n",
    "            yield return heights[initialX][y];\n",
    "        }\n",
    "    }\n",
    "    else if (direction == Direction.Left)\n",
    "    {\n",
    "        for (var y = initialY - 1; y >= 0; y--)\n",
    "        {\n",
    "            yield return heights[initialX][y];\n",
    "        }\n",
    "    }\n",
    "}\n",
    "\n",
    "GetSequence(3, 2, Direction.Down)"
   ]
  },
  {
   "cell_type": "code",
   "execution_count": 315,
   "metadata": {
    "dotnet_interactive": {
     "language": "csharp"
    },
    "polyglot_notebook": {
     "kernelName": "csharp"
    },
    "vscode": {
     "languageId": "polyglot-notebook"
    }
   },
   "outputs": [
    {
     "data": {
      "text/html": [
       "<div class=\"dni-plaintext\"><pre>37</pre></div><style>\r\n",
       ".dni-code-hint {\r\n",
       "    font-style: italic;\r\n",
       "    overflow: hidden;\r\n",
       "    white-space: nowrap;\r\n",
       "}\r\n",
       ".dni-treeview {\r\n",
       "    white-space: nowrap;\r\n",
       "}\r\n",
       ".dni-treeview td {\r\n",
       "    vertical-align: top;\r\n",
       "    text-align: start;\r\n",
       "}\r\n",
       "details.dni-treeview {\r\n",
       "    padding-left: 1em;\r\n",
       "}\r\n",
       "table td {\r\n",
       "    text-align: start;\r\n",
       "}\r\n",
       "table tr { \r\n",
       "    vertical-align: top; \r\n",
       "    margin: 0em 0px;\r\n",
       "}\r\n",
       "table tr td pre \r\n",
       "{ \r\n",
       "    vertical-align: top !important; \r\n",
       "    margin: 0em 0px !important;\r\n",
       "} \r\n",
       "table th {\r\n",
       "    text-align: start;\r\n",
       "}\r\n",
       "</style>"
      ]
     },
     "metadata": {},
     "output_type": "display_data"
    }
   ],
   "source": [
    "public int SceneryScore(int initialHeight, IEnumerable<int> view)\n",
    "{\n",
    "    var score = 0;\n",
    "\n",
    "    foreach(var height in view)\n",
    "    {\n",
    "        score++;\n",
    "        \n",
    "        if (height >= initialHeight)\n",
    "            break;\n",
    "    }\n",
    "\n",
    "    return score;\n",
    "}\n",
    "\n",
    "SceneryScore(5, GetSequence(3, 2, Direction.Right))"
   ]
  },
  {
   "cell_type": "code",
   "execution_count": 316,
   "metadata": {
    "dotnet_interactive": {
     "language": "csharp"
    },
    "polyglot_notebook": {
     "kernelName": "csharp"
    },
    "vscode": {
     "languageId": "polyglot-notebook"
    }
   },
   "outputs": [
    {
     "data": {
      "text/html": [
       "<div class=\"dni-plaintext\"><pre>1</pre></div><style>\r\n",
       ".dni-code-hint {\r\n",
       "    font-style: italic;\r\n",
       "    overflow: hidden;\r\n",
       "    white-space: nowrap;\r\n",
       "}\r\n",
       ".dni-treeview {\r\n",
       "    white-space: nowrap;\r\n",
       "}\r\n",
       ".dni-treeview td {\r\n",
       "    vertical-align: top;\r\n",
       "    text-align: start;\r\n",
       "}\r\n",
       "details.dni-treeview {\r\n",
       "    padding-left: 1em;\r\n",
       "}\r\n",
       "table td {\r\n",
       "    text-align: start;\r\n",
       "}\r\n",
       "table tr { \r\n",
       "    vertical-align: top; \r\n",
       "    margin: 0em 0px;\r\n",
       "}\r\n",
       "table tr td pre \r\n",
       "{ \r\n",
       "    vertical-align: top !important; \r\n",
       "    margin: 0em 0px !important;\r\n",
       "} \r\n",
       "table th {\r\n",
       "    text-align: start;\r\n",
       "}\r\n",
       "</style>"
      ]
     },
     "metadata": {},
     "output_type": "display_data"
    }
   ],
   "source": [
    "public int SceneryScore(int targetX, int targetY)\n",
    "{\n",
    "    var height = heights[targetX][targetY];\n",
    "\n",
    "    var score = \n",
    "        SceneryScore(height, GetSequence(targetX, targetY, Direction.Up)) *\n",
    "        SceneryScore(height, GetSequence(targetX, targetY, Direction.Down)) *\n",
    "        SceneryScore(height, GetSequence(targetX, targetY, Direction.Left)) *\n",
    "        SceneryScore(height, GetSequence(targetX, targetY, Direction.Right));\n",
    "\n",
    "    return score;\n",
    "}\n",
    "\n",
    "SceneryScore(3, 2)"
   ]
  },
  {
   "cell_type": "code",
   "execution_count": 317,
   "metadata": {
    "dotnet_interactive": {
     "language": "csharp"
    },
    "polyglot_notebook": {
     "kernelName": "csharp"
    },
    "vscode": {
     "languageId": "polyglot-notebook"
    }
   },
   "outputs": [
    {
     "data": {
      "text/html": [
       "<div class=\"dni-plaintext\"><pre>334880</pre></div><style>\r\n",
       ".dni-code-hint {\r\n",
       "    font-style: italic;\r\n",
       "    overflow: hidden;\r\n",
       "    white-space: nowrap;\r\n",
       "}\r\n",
       ".dni-treeview {\r\n",
       "    white-space: nowrap;\r\n",
       "}\r\n",
       ".dni-treeview td {\r\n",
       "    vertical-align: top;\r\n",
       "    text-align: start;\r\n",
       "}\r\n",
       "details.dni-treeview {\r\n",
       "    padding-left: 1em;\r\n",
       "}\r\n",
       "table td {\r\n",
       "    text-align: start;\r\n",
       "}\r\n",
       "table tr { \r\n",
       "    vertical-align: top; \r\n",
       "    margin: 0em 0px;\r\n",
       "}\r\n",
       "table tr td pre \r\n",
       "{ \r\n",
       "    vertical-align: top !important; \r\n",
       "    margin: 0em 0px !important;\r\n",
       "} \r\n",
       "table th {\r\n",
       "    text-align: start;\r\n",
       "}\r\n",
       "</style>"
      ]
     },
     "metadata": {},
     "output_type": "display_data"
    }
   ],
   "source": [
    "var bestScore = 0;\n",
    "\n",
    "for (var x = 1; x < maxX - 1; x++)\n",
    "{\n",
    "    for (var y = 1; y < maxY - 1; y++)\n",
    "    {\n",
    "        bestScore = Math.Max(SceneryScore(x, y), bestScore);\n",
    "    }\n",
    "}\n",
    "\n",
    "bestScore"
   ]
  }
 ],
 "metadata": {
  "kernelspec": {
   "display_name": ".NET (C#)",
   "language": "C#",
   "name": ".net-csharp"
  },
  "polyglot_notebook": {
   "kernelInfo": {
    "defaultKernelName": "csharp",
    "items": [
     {
      "aliases": [
       "c#",
       "C#"
      ],
      "languageName": "C#",
      "name": "csharp"
     },
     {
      "aliases": [
       "frontend"
      ],
      "name": "vscode"
     },
     {
      "aliases": [],
      "name": ".NET"
     },
     {
      "aliases": [
       "f#",
       "F#"
      ],
      "languageName": "F#",
      "name": "fsharp"
     },
     {
      "aliases": [],
      "languageName": "HTML",
      "name": "html"
     },
     {
      "aliases": [
       "js"
      ],
      "languageName": "JavaScript",
      "name": "javascript"
     },
     {
      "aliases": [],
      "languageName": "KQL",
      "name": "kql"
     },
     {
      "aliases": [],
      "languageName": "Mermaid",
      "name": "mermaid"
     },
     {
      "aliases": [
       "powershell"
      ],
      "languageName": "PowerShell",
      "name": "pwsh"
     },
     {
      "aliases": [],
      "languageName": "SQL",
      "name": "sql"
     },
     {
      "aliases": [],
      "name": "value"
     },
     {
      "aliases": [],
      "name": "webview"
     }
    ]
   }
  }
 },
 "nbformat": 4,
 "nbformat_minor": 2
}
