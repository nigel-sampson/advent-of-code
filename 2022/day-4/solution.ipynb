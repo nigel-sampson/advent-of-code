{
 "cells": [
  {
   "cell_type": "markdown",
   "metadata": {},
   "source": [
    "# Day 4"
   ]
  },
  {
   "cell_type": "code",
   "execution_count": 42,
   "metadata": {
    "dotnet_interactive": {
     "language": "csharp"
    },
    "vscode": {
     "languageId": "dotnet-interactive.csharp"
    }
   },
   "outputs": [
    {
     "data": {
      "text/html": [
       "<table><thead><tr><th><i>index</i></th><th>value</th></tr></thead><tbody><tr><td>0</td><td>30-31,2-31</td></tr><tr><td>1</td><td>6-92,4-5</td></tr><tr><td>2</td><td>35-39,42-44</td></tr><tr><td>3</td><td>35-95,35-95</td></tr><tr><td>4</td><td>12-98,99-99</td></tr><tr><td>5</td><td>10-15,16-94</td></tr><tr><td>6</td><td>37-85,84-84</td></tr><tr><td>7</td><td>2-23,31-56</td></tr><tr><td>8</td><td>52-68,51-69</td></tr><tr><td>9</td><td>47-62,25-52</td></tr><tr><td>10</td><td>9-62,61-61</td></tr><tr><td>11</td><td>78-99,77-99</td></tr><tr><td>12</td><td>92-94,11-93</td></tr><tr><td>13</td><td>77-83,62-76</td></tr><tr><td>14</td><td>3-7,29-59</td></tr><tr><td>15</td><td>12-96,96-97</td></tr><tr><td>16</td><td>48-48,12-47</td></tr><tr><td>17</td><td>72-86,71-86</td></tr><tr><td>18</td><td>6-90,90-95</td></tr><tr><td>19</td><td>5-92,2-4</td></tr><tr><td colspan=\"2\"><i>(980 more)</i></td></tr></tbody></table>"
      ]
     },
     "metadata": {},
     "output_type": "display_data"
    }
   ],
   "source": [
    "using System.IO;\n",
    "\n",
    "var lines = await File.ReadAllLinesAsync(\"input.txt\");\n",
    "\n",
    "lines"
   ]
  },
  {
   "cell_type": "code",
   "execution_count": 43,
   "metadata": {
    "dotnet_interactive": {
     "language": "csharp"
    },
    "vscode": {
     "languageId": "dotnet-interactive.csharp"
    }
   },
   "outputs": [
    {
     "data": {
      "text/html": [
       "<table><thead><tr><th><i>index</i></th><th>value</th></tr></thead><tbody><tr><td>0</td><td><div class=\"dni-plaintext\">[ { Assignment { Min = 30, Max = 31 }: Min: 30, Max: 31 }, { Assignment { Min = 2, Max = 31 }: Min: 2, Max: 31 } ]</div></td></tr><tr><td>1</td><td><div class=\"dni-plaintext\">[ { Assignment { Min = 6, Max = 92 }: Min: 6, Max: 92 }, { Assignment { Min = 4, Max = 5 }: Min: 4, Max: 5 } ]</div></td></tr><tr><td>2</td><td><div class=\"dni-plaintext\">[ { Assignment { Min = 35, Max = 39 }: Min: 35, Max: 39 }, { Assignment { Min = 42, Max = 44 }: Min: 42, Max: 44 } ]</div></td></tr><tr><td>3</td><td><div class=\"dni-plaintext\">[ { Assignment { Min = 35, Max = 95 }: Min: 35, Max: 95 }, { Assignment { Min = 35, Max = 95 }: Min: 35, Max: 95 } ]</div></td></tr><tr><td>4</td><td><div class=\"dni-plaintext\">[ { Assignment { Min = 12, Max = 98 }: Min: 12, Max: 98 }, { Assignment { Min = 99, Max = 99 }: Min: 99, Max: 99 } ]</div></td></tr><tr><td>5</td><td><div class=\"dni-plaintext\">[ { Assignment { Min = 10, Max = 15 }: Min: 10, Max: 15 }, { Assignment { Min = 16, Max = 94 }: Min: 16, Max: 94 } ]</div></td></tr><tr><td>6</td><td><div class=\"dni-plaintext\">[ { Assignment { Min = 37, Max = 85 }: Min: 37, Max: 85 }, { Assignment { Min = 84, Max = 84 }: Min: 84, Max: 84 } ]</div></td></tr><tr><td>7</td><td><div class=\"dni-plaintext\">[ { Assignment { Min = 2, Max = 23 }: Min: 2, Max: 23 }, { Assignment { Min = 31, Max = 56 }: Min: 31, Max: 56 } ]</div></td></tr><tr><td>8</td><td><div class=\"dni-plaintext\">[ { Assignment { Min = 52, Max = 68 }: Min: 52, Max: 68 }, { Assignment { Min = 51, Max = 69 }: Min: 51, Max: 69 } ]</div></td></tr><tr><td>9</td><td><div class=\"dni-plaintext\">[ { Assignment { Min = 47, Max = 62 }: Min: 47, Max: 62 }, { Assignment { Min = 25, Max = 52 }: Min: 25, Max: 52 } ]</div></td></tr><tr><td>10</td><td><div class=\"dni-plaintext\">[ { Assignment { Min = 9, Max = 62 }: Min: 9, Max: 62 }, { Assignment { Min = 61, Max = 61 }: Min: 61, Max: 61 } ]</div></td></tr><tr><td>11</td><td><div class=\"dni-plaintext\">[ { Assignment { Min = 78, Max = 99 }: Min: 78, Max: 99 }, { Assignment { Min = 77, Max = 99 }: Min: 77, Max: 99 } ]</div></td></tr><tr><td>12</td><td><div class=\"dni-plaintext\">[ { Assignment { Min = 92, Max = 94 }: Min: 92, Max: 94 }, { Assignment { Min = 11, Max = 93 }: Min: 11, Max: 93 } ]</div></td></tr><tr><td>13</td><td><div class=\"dni-plaintext\">[ { Assignment { Min = 77, Max = 83 }: Min: 77, Max: 83 }, { Assignment { Min = 62, Max = 76 }: Min: 62, Max: 76 } ]</div></td></tr><tr><td>14</td><td><div class=\"dni-plaintext\">[ { Assignment { Min = 3, Max = 7 }: Min: 3, Max: 7 }, { Assignment { Min = 29, Max = 59 }: Min: 29, Max: 59 } ]</div></td></tr><tr><td>15</td><td><div class=\"dni-plaintext\">[ { Assignment { Min = 12, Max = 96 }: Min: 12, Max: 96 }, { Assignment { Min = 96, Max = 97 }: Min: 96, Max: 97 } ]</div></td></tr><tr><td>16</td><td><div class=\"dni-plaintext\">[ { Assignment { Min = 48, Max = 48 }: Min: 48, Max: 48 }, { Assignment { Min = 12, Max = 47 }: Min: 12, Max: 47 } ]</div></td></tr><tr><td>17</td><td><div class=\"dni-plaintext\">[ { Assignment { Min = 72, Max = 86 }: Min: 72, Max: 86 }, { Assignment { Min = 71, Max = 86 }: Min: 71, Max: 86 } ]</div></td></tr><tr><td>18</td><td><div class=\"dni-plaintext\">[ { Assignment { Min = 6, Max = 90 }: Min: 6, Max: 90 }, { Assignment { Min = 90, Max = 95 }: Min: 90, Max: 95 } ]</div></td></tr><tr><td>19</td><td><div class=\"dni-plaintext\">[ { Assignment { Min = 5, Max = 92 }: Min: 5, Max: 92 }, { Assignment { Min = 2, Max = 4 }: Min: 2, Max: 4 } ]</div></td></tr><tr><td colspan=\"2\"><i>... (more)</i></td></tr></tbody></table>"
      ]
     },
     "metadata": {},
     "output_type": "display_data"
    }
   ],
   "source": [
    "public record Assignment(int Min, int Max)\n",
    "{\n",
    "    public bool Contains(Assignment assignment)\n",
    "    {\n",
    "        return Min <= assignment.Min && Max >= assignment.Max;\n",
    "    }\n",
    "\n",
    "    public bool Overlaps(Assignment assignment)\n",
    "    {\n",
    "        return (Min >= assignment.Min && Min <= assignment.Max) || (Max >= assignment.Min && Max <= assignment.Max) || Contains(assignment);\n",
    "    }\n",
    "}\n",
    "\n",
    "public static Assignment ParseAssignment(string input)\n",
    "{\n",
    "    var values = input.Split(\"-\");\n",
    "\n",
    "    return new Assignment(Int32.Parse(values[0]), Int32.Parse((values[1])));\n",
    "}\n",
    "\n",
    "var assignments = lines\n",
    "    .Select(l => l.Split(\",\").Select(ParseAssignment).ToArray());\n",
    "\n",
    "assignments"
   ]
  },
  {
   "cell_type": "code",
   "execution_count": 44,
   "metadata": {
    "dotnet_interactive": {
     "language": "csharp"
    },
    "vscode": {
     "languageId": "dotnet-interactive.csharp"
    }
   },
   "outputs": [
    {
     "data": {
      "text/html": [
       "<div class=\"dni-plaintext\">444</div>"
      ]
     },
     "metadata": {},
     "output_type": "display_data"
    }
   ],
   "source": [
    "var contains = assignments\n",
    "    .Count(a => a[0].Contains(a[1]) || a[1].Contains(a[0]));\n",
    "\n",
    "contains"
   ]
  },
  {
   "cell_type": "markdown",
   "metadata": {},
   "source": [
    "## Part 2"
   ]
  },
  {
   "cell_type": "code",
   "execution_count": 45,
   "metadata": {
    "dotnet_interactive": {
     "language": "csharp"
    },
    "vscode": {
     "languageId": "dotnet-interactive.csharp"
    }
   },
   "outputs": [
    {
     "data": {
      "text/html": [
       "<div class=\"dni-plaintext\">801</div>"
      ]
     },
     "metadata": {},
     "output_type": "display_data"
    }
   ],
   "source": [
    "var overlaps = assignments\n",
    "    .Count(a => a[0].Overlaps(a[1]));\n",
    "\n",
    "overlaps"
   ]
  }
 ],
 "metadata": {
  "kernelspec": {
   "display_name": ".NET (C#)",
   "language": "C#",
   "name": ".net-csharp"
  },
  "language_info": {
   "file_extension": ".cs",
   "mimetype": "text/x-csharp",
   "name": "C#",
   "pygments_lexer": "csharp",
   "version": "9.0"
  },
  "orig_nbformat": 4,
  "vscode": {
   "interpreter": {
    "hash": "bdf1d89451dd98172cc8d2f74f0e8973c100cdfc475fe19f28f283c47be57e9a"
   }
  }
 },
 "nbformat": 4,
 "nbformat_minor": 2
}
