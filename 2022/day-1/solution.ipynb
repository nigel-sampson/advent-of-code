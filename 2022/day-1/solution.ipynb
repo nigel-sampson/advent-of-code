{
 "cells": [
  {
   "cell_type": "markdown",
   "metadata": {},
   "source": [
    "# Day 1\n",
    "\n",
    "Loop over lines in data summing numbers, when we hit a blank line append the sum to a list and reset."
   ]
  },
  {
   "cell_type": "code",
   "execution_count": 21,
   "metadata": {
    "dotnet_interactive": {
     "language": "csharp"
    },
    "polyglot_notebook": {
     "language": "csharp"
    },
    "vscode": {
     "languageId": "dotnet-interactive.csharp"
    }
   },
   "outputs": [
    {
     "data": {
      "text/html": [
       "<table><thead><tr><th><i>index</i></th><th>value</th></tr></thead><tbody><tr><td>0</td><td>6669</td></tr><tr><td>1</td><td>6434</td></tr><tr><td>2</td><td>6564</td></tr><tr><td>3</td><td>1032</td></tr><tr><td>4</td><td>1098</td></tr><tr><td>5</td><td>1829</td></tr><tr><td>6</td><td>2608</td></tr><tr><td>7</td><td>7322</td></tr><tr><td>8</td><td>2690</td></tr><tr><td>9</td><td>7061</td></tr><tr><td>10</td><td>1664</td></tr><tr><td>11</td><td>5769</td></tr><tr><td>12</td><td></td></tr><tr><td>13</td><td>6160</td></tr><tr><td>14</td><td>1082</td></tr><tr><td>15</td><td>3958</td></tr><tr><td>16</td><td>5272</td></tr><tr><td>17</td><td>2188</td></tr><tr><td>18</td><td>5618</td></tr><tr><td>19</td><td>3418</td></tr><tr><td colspan=\"2\"><i>(2246 more)</i></td></tr></tbody></table>"
      ]
     },
     "metadata": {},
     "output_type": "display_data"
    }
   ],
   "source": [
    "using System.IO;\n",
    "\n",
    "var lines = await File.ReadAllLinesAsync(\"input.txt\");\n",
    "\n",
    "lines"
   ]
  },
  {
   "cell_type": "code",
   "execution_count": 22,
   "metadata": {
    "dotnet_interactive": {
     "language": "csharp"
    },
    "vscode": {
     "languageId": "dotnet-interactive.csharp"
    }
   },
   "outputs": [
    {
     "data": {
      "text/html": [
       "<table><thead><tr><th><i>index</i></th><th>value</th></tr></thead><tbody><tr><td>0</td><td><div class=\"dni-plaintext\">50740</div></td></tr><tr><td>1</td><td><div class=\"dni-plaintext\">47646</div></td></tr><tr><td>2</td><td><div class=\"dni-plaintext\">45183</div></td></tr><tr><td>3</td><td><div class=\"dni-plaintext\">56621</div></td></tr><tr><td>4</td><td><div class=\"dni-plaintext\">54438</div></td></tr><tr><td>5</td><td><div class=\"dni-plaintext\">46666</div></td></tr><tr><td>6</td><td><div class=\"dni-plaintext\">61452</div></td></tr><tr><td>7</td><td><div class=\"dni-plaintext\">65428</div></td></tr><tr><td>8</td><td><div class=\"dni-plaintext\">58595</div></td></tr><tr><td>9</td><td><div class=\"dni-plaintext\">49927</div></td></tr><tr><td>10</td><td><div class=\"dni-plaintext\">35391</div></td></tr><tr><td>11</td><td><div class=\"dni-plaintext\">33554</div></td></tr><tr><td>12</td><td><div class=\"dni-plaintext\">30341</div></td></tr><tr><td>13</td><td><div class=\"dni-plaintext\">55732</div></td></tr><tr><td>14</td><td><div class=\"dni-plaintext\">42751</div></td></tr><tr><td>15</td><td><div class=\"dni-plaintext\">26748</div></td></tr><tr><td>16</td><td><div class=\"dni-plaintext\">53392</div></td></tr><tr><td>17</td><td><div class=\"dni-plaintext\">54864</div></td></tr><tr><td>18</td><td><div class=\"dni-plaintext\">39219</div></td></tr><tr><td>19</td><td><div class=\"dni-plaintext\">47748</div></td></tr><tr><td colspan=\"2\"><i>(240 more)</i></td></tr></tbody></table>"
      ]
     },
     "metadata": {},
     "output_type": "display_data"
    }
   ],
   "source": [
    "var sums = new List<int>();\n",
    "var sum = 0;\n",
    "\n",
    "foreach (var line in lines)\n",
    "{\n",
    "    if (String.IsNullOrWhiteSpace(line))\n",
    "    {\n",
    "        sums.Add(sum);\n",
    "        sum = 0;\n",
    "    }\n",
    "    else\n",
    "    {\n",
    "        sum += Int32.Parse(line);\n",
    "    }\n",
    "}\n",
    "\n",
    "sums.Add(sum);\n",
    "\n",
    "sums"
   ]
  },
  {
   "cell_type": "code",
   "execution_count": 23,
   "metadata": {
    "dotnet_interactive": {
     "language": "csharp"
    },
    "vscode": {
     "languageId": "dotnet-interactive.csharp"
    }
   },
   "outputs": [
    {
     "data": {
      "text/html": [
       "<div class=\"dni-plaintext\">69912</div>"
      ]
     },
     "metadata": {},
     "output_type": "display_data"
    }
   ],
   "source": [
    "sums.Max()"
   ]
  },
  {
   "cell_type": "code",
   "execution_count": 24,
   "metadata": {
    "dotnet_interactive": {
     "language": "csharp"
    },
    "vscode": {
     "languageId": "dotnet-interactive.csharp"
    }
   },
   "outputs": [
    {
     "data": {
      "text/html": [
       "<div class=\"dni-plaintext\">208180</div>"
      ]
     },
     "metadata": {},
     "output_type": "display_data"
    }
   ],
   "source": [
    "sums.OrderByDescending(s => s).Take(3).Sum()"
   ]
  }
 ],
 "metadata": {
  "kernelspec": {
   "display_name": ".NET (C#)",
   "language": "C#",
   "name": ".net-csharp"
  },
  "language_info": {
   "name": "C#"
  }
 },
 "nbformat": 4,
 "nbformat_minor": 2
}
