{
 "cells": [
  {
   "cell_type": "markdown",
   "metadata": {},
   "source": [
    "# Day 1\n",
    "\n",
    "Loop over lines in data summing numbers, when we hit a blank line append the sum to a list and reset."
   ]
  },
  {
   "cell_type": "code",
   "execution_count": 17,
   "metadata": {
    "dotnet_interactive": {
     "language": "csharp"
    },
    "polyglot_notebook": {
     "language": "csharp"
    },
    "vscode": {
     "languageId": "dotnet-interactive.csharp"
    }
   },
   "outputs": [
    {
     "data": {
      "text/html": [
       "<table><thead><tr><th><i>index</i></th><th>value</th></tr></thead><tbody><tr><td>0</td><td>1000</td></tr><tr><td>1</td><td>2000</td></tr><tr><td>2</td><td>3000</td></tr><tr><td>3</td><td></td></tr><tr><td>4</td><td>4000</td></tr><tr><td>5</td><td></td></tr><tr><td>6</td><td>5000</td></tr><tr><td>7</td><td>6000</td></tr><tr><td>8</td><td></td></tr><tr><td>9</td><td>7000</td></tr><tr><td>10</td><td>8000</td></tr><tr><td>11</td><td>9000</td></tr><tr><td>12</td><td></td></tr><tr><td>13</td><td>10000</td></tr></tbody></table>"
      ]
     },
     "metadata": {},
     "output_type": "display_data"
    }
   ],
   "source": [
    "using System.IO;\n",
    "\n",
    "var lines = await File.ReadAllLinesAsync(\"test-input.txt\");\n",
    "\n",
    "lines"
   ]
  },
  {
   "cell_type": "code",
   "execution_count": 18,
   "metadata": {
    "dotnet_interactive": {
     "language": "csharp"
    },
    "vscode": {
     "languageId": "dotnet-interactive.csharp"
    }
   },
   "outputs": [
    {
     "data": {
      "text/html": [
       "<table><thead><tr><th><i>index</i></th><th>value</th></tr></thead><tbody><tr><td>0</td><td><div class=\"dni-plaintext\">6000</div></td></tr><tr><td>1</td><td><div class=\"dni-plaintext\">4000</div></td></tr><tr><td>2</td><td><div class=\"dni-plaintext\">11000</div></td></tr><tr><td>3</td><td><div class=\"dni-plaintext\">24000</div></td></tr><tr><td>4</td><td><div class=\"dni-plaintext\">10000</div></td></tr></tbody></table>"
      ]
     },
     "metadata": {},
     "output_type": "display_data"
    }
   ],
   "source": [
    "var sums = new List<int>();\n",
    "var sum = 0;\n",
    "\n",
    "foreach (var line in lines)\n",
    "{\n",
    "    if (String.IsNullOrWhiteSpace(line))\n",
    "    {\n",
    "        sums.Add(sum);\n",
    "        sum = 0;\n",
    "    }\n",
    "    else\n",
    "    {\n",
    "        sum += Int32.Parse(line);\n",
    "    }\n",
    "}\n",
    "\n",
    "sums.Add(sum);\n",
    "\n",
    "sums"
   ]
  },
  {
   "cell_type": "code",
   "execution_count": 19,
   "metadata": {
    "dotnet_interactive": {
     "language": "csharp"
    },
    "vscode": {
     "languageId": "dotnet-interactive.csharp"
    }
   },
   "outputs": [
    {
     "data": {
      "text/html": [
       "<div class=\"dni-plaintext\">24000</div>"
      ]
     },
     "metadata": {},
     "output_type": "display_data"
    }
   ],
   "source": [
    "sums.Max()"
   ]
  },
  {
   "cell_type": "code",
   "execution_count": 20,
   "metadata": {
    "dotnet_interactive": {
     "language": "csharp"
    },
    "vscode": {
     "languageId": "dotnet-interactive.csharp"
    }
   },
   "outputs": [
    {
     "data": {
      "text/html": [
       "<div class=\"dni-plaintext\">45000</div>"
      ]
     },
     "metadata": {},
     "output_type": "display_data"
    }
   ],
   "source": [
    "sums.OrderByDescending(s => s).Take(3).Sum()"
   ]
  }
 ],
 "metadata": {
  "kernelspec": {
   "display_name": ".NET (C#)",
   "language": "C#",
   "name": ".net-csharp"
  },
  "language_info": {
   "name": "C#"
  }
 },
 "nbformat": 4,
 "nbformat_minor": 2
}
