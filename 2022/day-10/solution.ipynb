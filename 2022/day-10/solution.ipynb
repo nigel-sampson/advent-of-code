{
 "cells": [
  {
   "attachments": {},
   "cell_type": "markdown",
   "metadata": {},
   "source": [
    "# Day 10\n",
    "## Part 1"
   ]
  },
  {
   "cell_type": "code",
   "execution_count": 302,
   "metadata": {
    "vscode": {
     "languageId": "polyglot-notebook"
    }
   },
   "outputs": [
    {
     "data": {
      "text/html": [
       "<table><thead><tr><th><i>index</i></th><th>value</th></tr></thead><tbody><tr><td>0</td><td>noop</td></tr><tr><td>1</td><td>noop</td></tr><tr><td>2</td><td>noop</td></tr><tr><td>3</td><td>addx 6</td></tr><tr><td>4</td><td>noop</td></tr><tr><td>5</td><td>addx 30</td></tr><tr><td>6</td><td>addx -26</td></tr><tr><td>7</td><td>noop</td></tr><tr><td>8</td><td>addx 5</td></tr><tr><td>9</td><td>noop</td></tr><tr><td>10</td><td>noop</td></tr><tr><td>11</td><td>noop</td></tr><tr><td>12</td><td>noop</td></tr><tr><td>13</td><td>addx 5</td></tr><tr><td>14</td><td>addx -5</td></tr><tr><td>15</td><td>addx 6</td></tr><tr><td>16</td><td>addx 5</td></tr><tr><td>17</td><td>addx -1</td></tr><tr><td>18</td><td>addx 5</td></tr><tr><td>19</td><td>noop</td></tr><tr><td colspan=\"2\"><i>(125 more)</i></td></tr></tbody></table><style>\r\n",
       ".dni-code-hint {\r\n",
       "    font-style: italic;\r\n",
       "    overflow: hidden;\r\n",
       "    white-space: nowrap;\r\n",
       "}\r\n",
       ".dni-treeview {\r\n",
       "    white-space: nowrap;\r\n",
       "}\r\n",
       ".dni-treeview td {\r\n",
       "    vertical-align: top;\r\n",
       "    text-align: start;\r\n",
       "}\r\n",
       "details.dni-treeview {\r\n",
       "    padding-left: 1em;\r\n",
       "}\r\n",
       "table td {\r\n",
       "    text-align: start;\r\n",
       "}\r\n",
       "table tr { \r\n",
       "    vertical-align: top; \r\n",
       "    margin: 0em 0px;\r\n",
       "}\r\n",
       "table tr td pre \r\n",
       "{ \r\n",
       "    vertical-align: top !important; \r\n",
       "    margin: 0em 0px !important;\r\n",
       "} \r\n",
       "table th {\r\n",
       "    text-align: start;\r\n",
       "}\r\n",
       "</style>"
      ]
     },
     "metadata": {},
     "output_type": "display_data"
    }
   ],
   "source": [
    "var instructions = await System.IO.File.ReadAllLinesAsync(\"input.txt\");\n",
    "\n",
    "instructions"
   ]
  },
  {
   "cell_type": "code",
   "execution_count": 303,
   "metadata": {
    "dotnet_interactive": {
     "language": "csharp"
    },
    "polyglot_notebook": {
     "kernelName": "csharp"
    },
    "vscode": {
     "languageId": "polyglot-notebook"
    }
   },
   "outputs": [
    {
     "data": {
      "text/html": [
       "<div class=\"dni-plaintext\"><pre>True</pre></div><style>\r\n",
       ".dni-code-hint {\r\n",
       "    font-style: italic;\r\n",
       "    overflow: hidden;\r\n",
       "    white-space: nowrap;\r\n",
       "}\r\n",
       ".dni-treeview {\r\n",
       "    white-space: nowrap;\r\n",
       "}\r\n",
       ".dni-treeview td {\r\n",
       "    vertical-align: top;\r\n",
       "    text-align: start;\r\n",
       "}\r\n",
       "details.dni-treeview {\r\n",
       "    padding-left: 1em;\r\n",
       "}\r\n",
       "table td {\r\n",
       "    text-align: start;\r\n",
       "}\r\n",
       "table tr { \r\n",
       "    vertical-align: top; \r\n",
       "    margin: 0em 0px;\r\n",
       "}\r\n",
       "table tr td pre \r\n",
       "{ \r\n",
       "    vertical-align: top !important; \r\n",
       "    margin: 0em 0px !important;\r\n",
       "} \r\n",
       "table th {\r\n",
       "    text-align: start;\r\n",
       "}\r\n",
       "</style>"
      ]
     },
     "metadata": {},
     "output_type": "display_data"
    }
   ],
   "source": [
    "public static bool CheckSignalStrength(int cycle) => cycle > 0 && (cycle == 20 || (cycle % 40) == 0);\n",
    "\n",
    "CheckSignalStrength(40)"
   ]
  },
  {
   "cell_type": "code",
   "execution_count": 304,
   "metadata": {
    "dotnet_interactive": {
     "language": "csharp"
    },
    "polyglot_notebook": {
     "kernelName": "csharp"
    },
    "vscode": {
     "languageId": "polyglot-notebook"
    }
   },
   "outputs": [
    {
     "data": {
      "text/html": [
       "<table><thead><tr><th><i>index</i></th><th>value</th></tr></thead><tbody><tr><td>0</td><td><div class=\"dni-plaintext\"><pre>1</pre></div></td></tr><tr><td>1</td><td><div class=\"dni-plaintext\"><pre>1</pre></div></td></tr><tr><td>2</td><td><div class=\"dni-plaintext\"><pre>1</pre></div></td></tr><tr><td>3</td><td><div class=\"dni-plaintext\"><pre>1</pre></div></td></tr><tr><td>4</td><td><div class=\"dni-plaintext\"><pre>1</pre></div></td></tr><tr><td>5</td><td><div class=\"dni-plaintext\"><pre>7</pre></div></td></tr><tr><td>6</td><td><div class=\"dni-plaintext\"><pre>7</pre></div></td></tr><tr><td>7</td><td><div class=\"dni-plaintext\"><pre>7</pre></div></td></tr><tr><td>8</td><td><div class=\"dni-plaintext\"><pre>37</pre></div></td></tr><tr><td>9</td><td><div class=\"dni-plaintext\"><pre>37</pre></div></td></tr><tr><td>10</td><td><div class=\"dni-plaintext\"><pre>11</pre></div></td></tr><tr><td>11</td><td><div class=\"dni-plaintext\"><pre>11</pre></div></td></tr><tr><td>12</td><td><div class=\"dni-plaintext\"><pre>11</pre></div></td></tr><tr><td>13</td><td><div class=\"dni-plaintext\"><pre>16</pre></div></td></tr><tr><td>14</td><td><div class=\"dni-plaintext\"><pre>16</pre></div></td></tr><tr><td>15</td><td><div class=\"dni-plaintext\"><pre>16</pre></div></td></tr><tr><td>16</td><td><div class=\"dni-plaintext\"><pre>16</pre></div></td></tr><tr><td>17</td><td><div class=\"dni-plaintext\"><pre>16</pre></div></td></tr><tr><td>18</td><td><div class=\"dni-plaintext\"><pre>16</pre></div></td></tr><tr><td>19</td><td><div class=\"dni-plaintext\"><pre>21</pre></div></td></tr><tr><td colspan=\"2\"><i>(221 more)</i></td></tr></tbody></table><style>\r\n",
       ".dni-code-hint {\r\n",
       "    font-style: italic;\r\n",
       "    overflow: hidden;\r\n",
       "    white-space: nowrap;\r\n",
       "}\r\n",
       ".dni-treeview {\r\n",
       "    white-space: nowrap;\r\n",
       "}\r\n",
       ".dni-treeview td {\r\n",
       "    vertical-align: top;\r\n",
       "    text-align: start;\r\n",
       "}\r\n",
       "details.dni-treeview {\r\n",
       "    padding-left: 1em;\r\n",
       "}\r\n",
       "table td {\r\n",
       "    text-align: start;\r\n",
       "}\r\n",
       "table tr { \r\n",
       "    vertical-align: top; \r\n",
       "    margin: 0em 0px;\r\n",
       "}\r\n",
       "table tr td pre \r\n",
       "{ \r\n",
       "    vertical-align: top !important; \r\n",
       "    margin: 0em 0px !important;\r\n",
       "} \r\n",
       "table th {\r\n",
       "    text-align: start;\r\n",
       "}\r\n",
       "</style>"
      ]
     },
     "metadata": {},
     "output_type": "display_data"
    }
   ],
   "source": [
    "var history = new List<int> { 1 };\n",
    "\n",
    "foreach (var instruction in instructions)\n",
    "{\n",
    "    if (instruction == \"noop\")\n",
    "    {\n",
    "        history.Add(history[history.Count - 1]);\n",
    "    }\n",
    "\n",
    "    if (instruction.StartsWith(\"addx\"))\n",
    "    {\n",
    "        var value = Int32.Parse(instruction[5..]);\n",
    "        \n",
    "        history.Add(history[history.Count - 1]);\n",
    "        history.Add(history[history.Count - 1] + value);\n",
    "    }\n",
    "}\n",
    "\n",
    "history"
   ]
  },
  {
   "cell_type": "code",
   "execution_count": 305,
   "metadata": {
    "dotnet_interactive": {
     "language": "csharp"
    },
    "polyglot_notebook": {
     "kernelName": "csharp"
    },
    "vscode": {
     "languageId": "polyglot-notebook"
    }
   },
   "outputs": [
    {
     "data": {
      "text/html": [
       "<div class=\"dni-plaintext\"><pre>14320</pre></div><style>\r\n",
       ".dni-code-hint {\r\n",
       "    font-style: italic;\r\n",
       "    overflow: hidden;\r\n",
       "    white-space: nowrap;\r\n",
       "}\r\n",
       ".dni-treeview {\r\n",
       "    white-space: nowrap;\r\n",
       "}\r\n",
       ".dni-treeview td {\r\n",
       "    vertical-align: top;\r\n",
       "    text-align: start;\r\n",
       "}\r\n",
       "details.dni-treeview {\r\n",
       "    padding-left: 1em;\r\n",
       "}\r\n",
       "table td {\r\n",
       "    text-align: start;\r\n",
       "}\r\n",
       "table tr { \r\n",
       "    vertical-align: top; \r\n",
       "    margin: 0em 0px;\r\n",
       "}\r\n",
       "table tr td pre \r\n",
       "{ \r\n",
       "    vertical-align: top !important; \r\n",
       "    margin: 0em 0px !important;\r\n",
       "} \r\n",
       "table th {\r\n",
       "    text-align: start;\r\n",
       "}\r\n",
       "</style>"
      ]
     },
     "metadata": {},
     "output_type": "display_data"
    }
   ],
   "source": [
    "var measures = new [] { 20, 60, 100, 140, 180, 220 };\n",
    "\n",
    "measures.Select(m => history[m - 1] * m).Sum()"
   ]
  },
  {
   "attachments": {},
   "cell_type": "markdown",
   "metadata": {
    "dotnet_interactive": {
     "language": "csharp"
    },
    "polyglot_notebook": {
     "kernelName": "csharp"
    }
   },
   "source": [
    "## Part 2"
   ]
  },
  {
   "cell_type": "code",
   "execution_count": 306,
   "metadata": {
    "dotnet_interactive": {
     "language": "csharp"
    },
    "polyglot_notebook": {
     "kernelName": "csharp"
    },
    "vscode": {
     "languageId": "polyglot-notebook"
    }
   },
   "outputs": [
    {
     "data": {
      "text/plain": [
       "###...##..###..###..#..#..##..###....##.\r\n",
       "#..#.#..#.#..#.#..#.#.#..#..#.#..#....#.\r\n",
       "#..#.#....#..#.###..##...#..#.#..#....#.\r\n",
       "###..#....###..#..#.#.#..####.###.....#.\r\n",
       "#....#..#.#....#..#.#.#..#..#.#....#..#.\r\n",
       "#.....##..#....###..#..#.#..#.#.....##.."
      ]
     },
     "metadata": {},
     "output_type": "display_data"
    }
   ],
   "source": [
    "var pixels = Enumerable.Range(0, 40 * 6).Select(c => Math.Abs((c % 40) - history[c]) <= 1 ? '#' : '.').ToArray();\n",
    "\n",
    "var screen = new []\n",
    "{\n",
    "    new string(pixels[0..40]),\n",
    "    new string(pixels[40..80]),\n",
    "    new string(pixels[80..120]),\n",
    "    new string(pixels[120..160]),\n",
    "    new string(pixels[160..200]),\n",
    "    new string(pixels[200..240]),\n",
    "};\n",
    "\n",
    "String.Join(Environment.NewLine, screen)"
   ]
  }
 ],
 "metadata": {
  "kernelspec": {
   "display_name": ".NET (C#)",
   "language": "C#",
   "name": ".net-csharp"
  },
  "polyglot_notebook": {
   "kernelInfo": {
    "defaultKernelName": "csharp",
    "items": [
     {
      "aliases": [
       "c#",
       "C#"
      ],
      "languageName": "C#",
      "name": "csharp"
     },
     {
      "aliases": [],
      "languageName": "HTML",
      "name": "html"
     },
     {
      "aliases": [
       "frontend"
      ],
      "languageName": null,
      "name": "vscode"
     }
    ]
   }
  }
 },
 "nbformat": 4,
 "nbformat_minor": 2
}
