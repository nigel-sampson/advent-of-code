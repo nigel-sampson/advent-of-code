{
 "cells": [
  {
   "attachments": {},
   "cell_type": "markdown",
   "metadata": {},
   "source": [
    "# Day 9\n",
    "## Part 1"
   ]
  },
  {
   "cell_type": "code",
   "execution_count": 200,
   "metadata": {
    "vscode": {
     "languageId": "polyglot-notebook"
    }
   },
   "outputs": [
    {
     "data": {
      "text/html": [
       "<table><thead><tr><th><i>index</i></th><th>value</th></tr></thead><tbody><tr><td>0</td><td>U 2</td></tr><tr><td>1</td><td>D 2</td></tr><tr><td>2</td><td>R 2</td></tr><tr><td>3</td><td>U 2</td></tr><tr><td>4</td><td>D 1</td></tr><tr><td>5</td><td>L 2</td></tr><tr><td>6</td><td>R 2</td></tr><tr><td>7</td><td>D 1</td></tr><tr><td>8</td><td>R 2</td></tr><tr><td>9</td><td>D 1</td></tr><tr><td>10</td><td>R 2</td></tr><tr><td>11</td><td>L 1</td></tr><tr><td>12</td><td>U 1</td></tr><tr><td>13</td><td>L 2</td></tr><tr><td>14</td><td>R 2</td></tr><tr><td>15</td><td>L 2</td></tr><tr><td>16</td><td>U 2</td></tr><tr><td>17</td><td>R 2</td></tr><tr><td>18</td><td>L 1</td></tr><tr><td>19</td><td>U 1</td></tr><tr><td colspan=\"2\"><i>(1980 more)</i></td></tr></tbody></table><style>\r\n",
       ".dni-code-hint {\r\n",
       "    font-style: italic;\r\n",
       "    overflow: hidden;\r\n",
       "    white-space: nowrap;\r\n",
       "}\r\n",
       ".dni-treeview {\r\n",
       "    white-space: nowrap;\r\n",
       "}\r\n",
       ".dni-treeview td {\r\n",
       "    vertical-align: top;\r\n",
       "    text-align: start;\r\n",
       "}\r\n",
       "details.dni-treeview {\r\n",
       "    padding-left: 1em;\r\n",
       "}\r\n",
       "table td {\r\n",
       "    text-align: start;\r\n",
       "}\r\n",
       "table tr { \r\n",
       "    vertical-align: top; \r\n",
       "    margin: 0em 0px;\r\n",
       "}\r\n",
       "table tr td pre \r\n",
       "{ \r\n",
       "    vertical-align: top !important; \r\n",
       "    margin: 0em 0px !important;\r\n",
       "} \r\n",
       "table th {\r\n",
       "    text-align: start;\r\n",
       "}\r\n",
       "</style>"
      ]
     },
     "metadata": {},
     "output_type": "display_data"
    }
   ],
   "source": [
    "var input = await System.IO.File.ReadAllLinesAsync(\"input.txt\");\n",
    "\n",
    "input"
   ]
  },
  {
   "cell_type": "code",
   "execution_count": 201,
   "metadata": {
    "dotnet_interactive": {
     "language": "csharp"
    },
    "polyglot_notebook": {
     "kernelName": "csharp"
    },
    "vscode": {
     "languageId": "polyglot-notebook"
    }
   },
   "outputs": [
    {
     "data": {
      "text/html": [
       "<table><thead><tr><th><i>index</i></th><th>Direction</th><th>Distance</th></tr></thead><tbody><tr><td>0</td><td><span>Up</span></td><td><div class=\"dni-plaintext\"><pre>2</pre></div></td></tr><tr><td>1</td><td><span>Down</span></td><td><div class=\"dni-plaintext\"><pre>2</pre></div></td></tr><tr><td>2</td><td><span>Right</span></td><td><div class=\"dni-plaintext\"><pre>2</pre></div></td></tr><tr><td>3</td><td><span>Up</span></td><td><div class=\"dni-plaintext\"><pre>2</pre></div></td></tr><tr><td>4</td><td><span>Down</span></td><td><div class=\"dni-plaintext\"><pre>1</pre></div></td></tr><tr><td>5</td><td><span>Left</span></td><td><div class=\"dni-plaintext\"><pre>2</pre></div></td></tr><tr><td>6</td><td><span>Right</span></td><td><div class=\"dni-plaintext\"><pre>2</pre></div></td></tr><tr><td>7</td><td><span>Down</span></td><td><div class=\"dni-plaintext\"><pre>1</pre></div></td></tr><tr><td>8</td><td><span>Right</span></td><td><div class=\"dni-plaintext\"><pre>2</pre></div></td></tr><tr><td>9</td><td><span>Down</span></td><td><div class=\"dni-plaintext\"><pre>1</pre></div></td></tr><tr><td>10</td><td><span>Right</span></td><td><div class=\"dni-plaintext\"><pre>2</pre></div></td></tr><tr><td>11</td><td><span>Left</span></td><td><div class=\"dni-plaintext\"><pre>1</pre></div></td></tr><tr><td>12</td><td><span>Up</span></td><td><div class=\"dni-plaintext\"><pre>1</pre></div></td></tr><tr><td>13</td><td><span>Left</span></td><td><div class=\"dni-plaintext\"><pre>2</pre></div></td></tr><tr><td>14</td><td><span>Right</span></td><td><div class=\"dni-plaintext\"><pre>2</pre></div></td></tr><tr><td>15</td><td><span>Left</span></td><td><div class=\"dni-plaintext\"><pre>2</pre></div></td></tr><tr><td>16</td><td><span>Up</span></td><td><div class=\"dni-plaintext\"><pre>2</pre></div></td></tr><tr><td>17</td><td><span>Right</span></td><td><div class=\"dni-plaintext\"><pre>2</pre></div></td></tr><tr><td>18</td><td><span>Left</span></td><td><div class=\"dni-plaintext\"><pre>1</pre></div></td></tr><tr><td>19</td><td><span>Up</span></td><td><div class=\"dni-plaintext\"><pre>1</pre></div></td></tr><tr><td colspan=\"3\"><i>(1980 more)</i></td></tr></tbody></table><style>\r\n",
       ".dni-code-hint {\r\n",
       "    font-style: italic;\r\n",
       "    overflow: hidden;\r\n",
       "    white-space: nowrap;\r\n",
       "}\r\n",
       ".dni-treeview {\r\n",
       "    white-space: nowrap;\r\n",
       "}\r\n",
       ".dni-treeview td {\r\n",
       "    vertical-align: top;\r\n",
       "    text-align: start;\r\n",
       "}\r\n",
       "details.dni-treeview {\r\n",
       "    padding-left: 1em;\r\n",
       "}\r\n",
       "table td {\r\n",
       "    text-align: start;\r\n",
       "}\r\n",
       "table tr { \r\n",
       "    vertical-align: top; \r\n",
       "    margin: 0em 0px;\r\n",
       "}\r\n",
       "table tr td pre \r\n",
       "{ \r\n",
       "    vertical-align: top !important; \r\n",
       "    margin: 0em 0px !important;\r\n",
       "} \r\n",
       "table th {\r\n",
       "    text-align: start;\r\n",
       "}\r\n",
       "</style>"
      ]
     },
     "metadata": {},
     "output_type": "display_data"
    }
   ],
   "source": [
    "public enum Direction { Up, Down, Left, Right }\n",
    "public record Movement(Direction Direction, int Distance)\n",
    "{\n",
    "    public static Movement Parse(string input)\n",
    "    {\n",
    "        var direction = input[0] switch\n",
    "        {\n",
    "            'U' => Direction.Up,\n",
    "            'D' => Direction.Down,\n",
    "            'L' => Direction.Left,\n",
    "            'R' => Direction.Right,\n",
    "            _ => throw new ArgumentException()\n",
    "        };\n",
    "\n",
    "        var distance = Int32.Parse(input[2..]);\n",
    "\n",
    "        return new Movement(direction, distance);\n",
    "    }\n",
    "}\n",
    "\n",
    "var movements = input.Select(Movement.Parse).ToList();\n",
    "\n",
    "movements"
   ]
  },
  {
   "cell_type": "code",
   "execution_count": 202,
   "metadata": {
    "dotnet_interactive": {
     "language": "csharp"
    },
    "polyglot_notebook": {
     "kernelName": "csharp"
    },
    "vscode": {
     "languageId": "polyglot-notebook"
    }
   },
   "outputs": [
    {
     "data": {
      "text/html": [
       "<table><thead><tr><th>X</th><th>Y</th></tr></thead><tbody><tr><td><div class=\"dni-plaintext\"><pre>2</pre></div></td><td><div class=\"dni-plaintext\"><pre>2</pre></div></td></tr></tbody></table>"
      ]
     },
     "metadata": {},
     "output_type": "display_data"
    }
   ],
   "source": [
    "public record Position(int X, int Y)\n",
    "{\n",
    "    public Position Move(Direction direction)\n",
    "    {\n",
    "        return direction switch\n",
    "        {\n",
    "            Direction.Right => this with { X = X + 1 },\n",
    "            Direction.Left => this with { X = X - 1 },\n",
    "            Direction.Up => this with { Y = Y + 1 },\n",
    "            Direction.Down => this with { Y = Y - 1 },\n",
    "            _ => throw new ArgumentException()\n",
    "        };\n",
    "    }\n",
    "\n",
    "    public Position Respond(Position head)\n",
    "    {\n",
    "        // covering\n",
    "        if (this == head)\n",
    "            return this;\n",
    "        \n",
    "        // same column\n",
    "        if (X == head.X)\n",
    "        {\n",
    "            var diff = head.Y - Y;\n",
    "            var abs = Math.Abs(diff);\n",
    "\n",
    "            if (abs > 1)\n",
    "            {\n",
    "                return this with { Y = Y + (diff / abs) };\n",
    "            }\n",
    "        }\n",
    "\n",
    "        // same row\n",
    "        if (Y == head.Y)\n",
    "        {\n",
    "            var diff = head.X - X;\n",
    "            var abs = Math.Abs(diff);\n",
    "\n",
    "            if (abs > 1)\n",
    "            {\n",
    "                return this with { X = X + (diff / abs) };\n",
    "            }\n",
    "        }\n",
    "\n",
    "        // neither same row or column\n",
    "        var xDiff = head.X - X;\n",
    "        var xAbs = Math.Abs(xDiff);\n",
    "        var yDiff = head.Y - Y;\n",
    "        var yAbs = Math.Abs(yDiff);\n",
    "\n",
    "        if (xAbs > 1 || yAbs > 1)\n",
    "        {\n",
    "            return this with { X = X + (xDiff / xAbs), Y = Y + (yDiff / yAbs) };\n",
    "        }\n",
    "\n",
    "        // touching\n",
    "        return this;\n",
    "    }\n",
    "}\n",
    "\n",
    "var h = new Position(3, 2);\n",
    "var t = new Position(1, 1);\n",
    "\n",
    "t.Respond(h)"
   ]
  },
  {
   "cell_type": "code",
   "execution_count": 203,
   "metadata": {
    "dotnet_interactive": {
     "language": "csharp"
    },
    "polyglot_notebook": {
     "kernelName": "csharp"
    },
    "vscode": {
     "languageId": "polyglot-notebook"
    }
   },
   "outputs": [
    {
     "data": {
      "text/html": [
       "<div class=\"dni-plaintext\"><pre>6337</pre></div><style>\r\n",
       ".dni-code-hint {\r\n",
       "    font-style: italic;\r\n",
       "    overflow: hidden;\r\n",
       "    white-space: nowrap;\r\n",
       "}\r\n",
       ".dni-treeview {\r\n",
       "    white-space: nowrap;\r\n",
       "}\r\n",
       ".dni-treeview td {\r\n",
       "    vertical-align: top;\r\n",
       "    text-align: start;\r\n",
       "}\r\n",
       "details.dni-treeview {\r\n",
       "    padding-left: 1em;\r\n",
       "}\r\n",
       "table td {\r\n",
       "    text-align: start;\r\n",
       "}\r\n",
       "table tr { \r\n",
       "    vertical-align: top; \r\n",
       "    margin: 0em 0px;\r\n",
       "}\r\n",
       "table tr td pre \r\n",
       "{ \r\n",
       "    vertical-align: top !important; \r\n",
       "    margin: 0em 0px !important;\r\n",
       "} \r\n",
       "table th {\r\n",
       "    text-align: start;\r\n",
       "}\r\n",
       "</style>"
      ]
     },
     "metadata": {},
     "output_type": "display_data"
    }
   ],
   "source": [
    "var head = new Position(0, 0);\n",
    "var tail = head;\n",
    "\n",
    "var visited = new HashSet<Position> { tail };\n",
    "\n",
    "foreach (var movement in movements)\n",
    "{\n",
    "    for (var i = 0; i < movement.Distance; i++)\n",
    "    {\n",
    "        head = head.Move(movement.Direction);\n",
    "        tail = tail.Respond(head);\n",
    "\n",
    "        visited.Add(tail);\n",
    "    }\n",
    "}\n",
    "\n",
    "visited.Count"
   ]
  },
  {
   "attachments": {},
   "cell_type": "markdown",
   "metadata": {
    "dotnet_interactive": {
     "language": "csharp"
    },
    "polyglot_notebook": {
     "kernelName": "csharp"
    }
   },
   "source": [
    "## Part 2"
   ]
  },
  {
   "cell_type": "code",
   "execution_count": 204,
   "metadata": {
    "dotnet_interactive": {
     "language": "csharp"
    },
    "polyglot_notebook": {
     "kernelName": "csharp"
    },
    "vscode": {
     "languageId": "polyglot-notebook"
    }
   },
   "outputs": [
    {
     "data": {
      "text/html": [
       "<div class=\"dni-plaintext\"><pre>2455</pre></div><style>\r\n",
       ".dni-code-hint {\r\n",
       "    font-style: italic;\r\n",
       "    overflow: hidden;\r\n",
       "    white-space: nowrap;\r\n",
       "}\r\n",
       ".dni-treeview {\r\n",
       "    white-space: nowrap;\r\n",
       "}\r\n",
       ".dni-treeview td {\r\n",
       "    vertical-align: top;\r\n",
       "    text-align: start;\r\n",
       "}\r\n",
       "details.dni-treeview {\r\n",
       "    padding-left: 1em;\r\n",
       "}\r\n",
       "table td {\r\n",
       "    text-align: start;\r\n",
       "}\r\n",
       "table tr { \r\n",
       "    vertical-align: top; \r\n",
       "    margin: 0em 0px;\r\n",
       "}\r\n",
       "table tr td pre \r\n",
       "{ \r\n",
       "    vertical-align: top !important; \r\n",
       "    margin: 0em 0px !important;\r\n",
       "} \r\n",
       "table th {\r\n",
       "    text-align: start;\r\n",
       "}\r\n",
       "</style>"
      ]
     },
     "metadata": {},
     "output_type": "display_data"
    }
   ],
   "source": [
    "const int knotCount = 10;\n",
    "const int head = 0;\n",
    "const int tail = knotCount -1;\n",
    "\n",
    "var knots = new Position[knotCount];\n",
    "\n",
    "Array.Fill(knots, new Position(0, 0));\n",
    "\n",
    "var visited = new HashSet<Position> { knots[tail] };\n",
    "\n",
    "foreach (var movement in movements)\n",
    "{\n",
    "    for (var i = 0; i < movement.Distance; i++)\n",
    "    {\n",
    "        knots[head] = knots[head].Move(movement.Direction);\n",
    "\n",
    "        for (var k = 1; k < knots.Length; k++)\n",
    "        {\n",
    "            knots[k] = knots[k].Respond(knots[k - 1]);\n",
    "        }\n",
    "\n",
    "        visited.Add(knots[tail]);\n",
    "    }\n",
    "}\n",
    "\n",
    "visited.Count"
   ]
  }
 ],
 "metadata": {
  "kernelspec": {
   "display_name": ".NET (C#)",
   "language": "C#",
   "name": ".net-csharp"
  },
  "polyglot_notebook": {
   "kernelInfo": {
    "defaultKernelName": "csharp",
    "items": [
     {
      "aliases": [
       "c#",
       "C#"
      ],
      "languageName": "C#",
      "name": "csharp"
     },
     {
      "aliases": [
       "frontend"
      ],
      "languageName": null,
      "name": "vscode"
     }
    ]
   }
  }
 },
 "nbformat": 4,
 "nbformat_minor": 2
}
