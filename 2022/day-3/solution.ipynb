{
 "cells": [
  {
   "cell_type": "markdown",
   "metadata": {},
   "source": [
    "# Day 3"
   ]
  },
  {
   "cell_type": "code",
   "execution_count": 81,
   "metadata": {
    "dotnet_interactive": {
     "language": "csharp"
    },
    "vscode": {
     "languageId": "dotnet-interactive.csharp"
    }
   },
   "outputs": [
    {
     "data": {
      "text/html": [
       "<table><thead><tr><th><i>index</i></th><th>value</th></tr></thead><tbody><tr><td>0</td><td>MVWpzTTrTFNNLtssjV</td></tr><tr><td>1</td><td>hRJncnJCnhPCnBSbCQRhhQRPFHmsbHLzbLNHsjNNFmGGGsGF</td></tr><tr><td>2</td><td>lSBQJBBBBcnccnQvBnPQznfrgwlrTZfDwTfWqrrpgMpw</td></tr><tr><td>3</td><td>sRPgrzSgrSbfTrgspBPsDWWTmdnvdZWZwTmwvdmd</td></tr><tr><td>4</td><td>tVGpCGqCGjlHcNGVNHZDmnZMWdWMWCdZDvnZ</td></tr><tr><td>5</td><td>HqpQptLlclLGtlpcjHNhQqfRhrSBrrbfbrSRrsPfBSgg</td></tr><tr><td>6</td><td>JpjLbQbFPBjDBBJLWltglfBfhhlcctht</td></tr><tr><td>7</td><td>vNFmsdFsnmzGtWvgzhzc</td></tr><tr><td>8</td><td>rqwRCCqmCTqHCnqRNTNFsJVMQSjLRbbVVbjQVLbLSV</td></tr><tr><td>9</td><td>mLNNCNDwBwDnmCwnJwLRvdlqZclRccsgvcZndc</td></tr><tr><td>10</td><td>QWMtVWbpVlgHHcgMHs</td></tr><tr><td>11</td><td>VsTVWhThsVQWzjtQPpVWjWbpwJNCJDCzSNNCCCSfmfBCSGLL</td></tr><tr><td>12</td><td>NbSfHnwDvwwfHwwQsHbWPgrsZsZjRPLRgLWhWP</td></tr><tr><td>13</td><td>lmMlTGFzVmzqjGLLZWWGhrCh</td></tr><tr><td>14</td><td>qFclMprqmrvbcnwDQtNQ</td></tr><tr><td>15</td><td>tWQZFvvtWQWbqQQggZZLvpLrpzDrmGDmmDHPzPzHrfnHTG</td></tr><tr><td>16</td><td>NMlhlTMccTCVBlRNHzJnzDDmnJmnGGBf</td></tr><tr><td>17</td><td>NMMSSSSSlNVMdjdNSNNhFwTbvbLqjbtLwWQwZqgg</td></tr><tr><td>18</td><td>jPwcJwRmmhJpbhNJVgDbrHzzzQzzBQHg</td></tr><tr><td>19</td><td>tdZqlCnnnlvZCqlnlCSqZdFCHGDBgzsDzssBtHGLQtrHsssL</td></tr><tr><td colspan=\"2\"><i>(280 more)</i></td></tr></tbody></table>"
      ]
     },
     "metadata": {},
     "output_type": "display_data"
    }
   ],
   "source": [
    "using System.IO;\n",
    "\n",
    "var lines = await File.ReadAllLinesAsync(\"input.txt\");\n",
    "\n",
    "lines"
   ]
  },
  {
   "cell_type": "code",
   "execution_count": 82,
   "metadata": {
    "dotnet_interactive": {
     "language": "csharp"
    },
    "vscode": {
     "languageId": "dotnet-interactive.csharp"
    }
   },
   "outputs": [
    {
     "data": {
      "text/html": [
       "<table><thead><tr><th><i>index</i></th><th>value</th></tr></thead><tbody><tr><td>0</td><td><div class=\"dni-plaintext\">[ MTVWprz, FLNVjst ]</div></td></tr><tr><td>1</td><td><div class=\"dni-plaintext\">[ BCJPQRSbchn, FGHLNbjmsz ]</div></td></tr><tr><td>2</td><td><div class=\"dni-plaintext\">[ BJPQSclnvz, DMTWZfglpqrw ]</div></td></tr><tr><td>3</td><td><div class=\"dni-plaintext\">[ BPRSTbfgprsz, DTWZdmnvw ]</div></td></tr><tr><td>4</td><td><div class=\"dni-plaintext\">[ CGHNVcjlpqt, CDMWZdmnv ]</div></td></tr><tr><td>5</td><td><div class=\"dni-plaintext\">[ GHLNQchjlpqt, BPRSbfghrs ]</div></td></tr><tr><td>6</td><td><div class=\"dni-plaintext\">[ BDFJLPQbjp, BWcfghlt ]</div></td></tr><tr><td>7</td><td><div class=\"dni-plaintext\">[ FNdmnsv, GWcghtvz ]</div></td></tr><tr><td>8</td><td><div class=\"dni-plaintext\">[ CFHNRTmnqrsw, JLMQRSVbj ]</div></td></tr><tr><td>9</td><td><div class=\"dni-plaintext\">[ BCDJLNmnw, RZcdglnqsv ]</div></td></tr><tr><td>10</td><td><div class=\"dni-plaintext\">[ MQVWbpt, HMcgls ]</div></td></tr><tr><td>11</td><td><div class=\"dni-plaintext\">[ PQTVWbhjpstz, BCDGJLNSfmwz ]</div></td></tr><tr><td>12</td><td><div class=\"dni-plaintext\">[ DHNQSbfnsvw, LPRWZghjrs ]</div></td></tr><tr><td>13</td><td><div class=\"dni-plaintext\">[ FGMTVlmqz, CGLWZhjr ]</div></td></tr><tr><td>14</td><td><div class=\"dni-plaintext\">[ FMclmpqr, DNQbcntvw ]</div></td></tr><tr><td>15</td><td><div class=\"dni-plaintext\">[ FLQWZbgpqtv, DGHPTfmnprz ]</div></td></tr><tr><td>16</td><td><div class=\"dni-plaintext\">[ BCMNRTVchl, BDGHJfmnz ]</div></td></tr><tr><td>17</td><td><div class=\"dni-plaintext\">[ MNSVdhjl, FLQTWZbgjqtvw ]</div></td></tr><tr><td>18</td><td><div class=\"dni-plaintext\">[ JNPRbchjmpw, BDHQVbgrz ]</div></td></tr><tr><td>19</td><td><div class=\"dni-plaintext\">[ CFSZdlnqtv, BDGHLQgrstz ]</div></td></tr><tr><td colspan=\"2\"><i>... (more)</i></td></tr></tbody></table>"
      ]
     },
     "metadata": {},
     "output_type": "display_data"
    }
   ],
   "source": [
    "public static string Simplify(string input)\n",
    "{\n",
    "    return new string(input.Distinct().OrderBy(c => c).ToArray());\n",
    "}\n",
    "\n",
    "var rucksacks = lines.Select(line => {\n",
    "    var mid = line.Length / 2;\n",
    "    return new [] { Simplify(line[..mid]), Simplify(line[mid..]) };\n",
    "});\n",
    "\n",
    "rucksacks"
   ]
  },
  {
   "cell_type": "code",
   "execution_count": 83,
   "metadata": {
    "dotnet_interactive": {
     "language": "csharp"
    },
    "vscode": {
     "languageId": "dotnet-interactive.csharp"
    }
   },
   "outputs": [
    {
     "data": {
      "text/html": [
       "<table><thead><tr><th><i>index</i></th><th>value</th></tr></thead><tbody><tr><td>0</td><td><div class=\"dni-plaintext\">V</div></td></tr><tr><td>1</td><td><div class=\"dni-plaintext\">b</div></td></tr><tr><td>2</td><td><div class=\"dni-plaintext\">l</div></td></tr><tr><td>3</td><td><div class=\"dni-plaintext\">T</div></td></tr><tr><td>4</td><td><div class=\"dni-plaintext\">C</div></td></tr><tr><td>5</td><td><div class=\"dni-plaintext\">h</div></td></tr><tr><td>6</td><td><div class=\"dni-plaintext\">B</div></td></tr><tr><td>7</td><td><div class=\"dni-plaintext\">v</div></td></tr><tr><td>8</td><td><div class=\"dni-plaintext\">R</div></td></tr><tr><td>9</td><td><div class=\"dni-plaintext\">n</div></td></tr><tr><td>10</td><td><div class=\"dni-plaintext\">M</div></td></tr><tr><td>11</td><td><div class=\"dni-plaintext\">z</div></td></tr><tr><td>12</td><td><div class=\"dni-plaintext\">s</div></td></tr><tr><td>13</td><td><div class=\"dni-plaintext\">G</div></td></tr><tr><td>14</td><td><div class=\"dni-plaintext\">c</div></td></tr><tr><td>15</td><td><div class=\"dni-plaintext\">p</div></td></tr><tr><td>16</td><td><div class=\"dni-plaintext\">B</div></td></tr><tr><td>17</td><td><div class=\"dni-plaintext\">j</div></td></tr><tr><td>18</td><td><div class=\"dni-plaintext\">b</div></td></tr><tr><td>19</td><td><div class=\"dni-plaintext\">t</div></td></tr><tr><td colspan=\"2\"><i>... (more)</i></td></tr></tbody></table>"
      ]
     },
     "metadata": {},
     "output_type": "display_data"
    }
   ],
   "source": [
    "var commonItems = rucksacks.Select(r => r[0].Intersect(r[1]).Single());\n",
    "\n",
    "commonItems"
   ]
  },
  {
   "cell_type": "code",
   "execution_count": 84,
   "metadata": {
    "dotnet_interactive": {
     "language": "csharp"
    },
    "vscode": {
     "languageId": "dotnet-interactive.csharp"
    }
   },
   "outputs": [
    {
     "data": {
      "text/html": [
       "<table><thead><tr><th><i>index</i></th><th>value</th></tr></thead><tbody><tr><td>0</td><td><div class=\"dni-plaintext\">48</div></td></tr><tr><td>1</td><td><div class=\"dni-plaintext\">2</div></td></tr><tr><td>2</td><td><div class=\"dni-plaintext\">12</div></td></tr><tr><td>3</td><td><div class=\"dni-plaintext\">46</div></td></tr><tr><td>4</td><td><div class=\"dni-plaintext\">29</div></td></tr><tr><td>5</td><td><div class=\"dni-plaintext\">8</div></td></tr><tr><td>6</td><td><div class=\"dni-plaintext\">28</div></td></tr><tr><td>7</td><td><div class=\"dni-plaintext\">22</div></td></tr><tr><td>8</td><td><div class=\"dni-plaintext\">44</div></td></tr><tr><td>9</td><td><div class=\"dni-plaintext\">14</div></td></tr><tr><td>10</td><td><div class=\"dni-plaintext\">39</div></td></tr><tr><td>11</td><td><div class=\"dni-plaintext\">26</div></td></tr><tr><td>12</td><td><div class=\"dni-plaintext\">19</div></td></tr><tr><td>13</td><td><div class=\"dni-plaintext\">33</div></td></tr><tr><td>14</td><td><div class=\"dni-plaintext\">3</div></td></tr><tr><td>15</td><td><div class=\"dni-plaintext\">16</div></td></tr><tr><td>16</td><td><div class=\"dni-plaintext\">28</div></td></tr><tr><td>17</td><td><div class=\"dni-plaintext\">10</div></td></tr><tr><td>18</td><td><div class=\"dni-plaintext\">2</div></td></tr><tr><td>19</td><td><div class=\"dni-plaintext\">20</div></td></tr><tr><td colspan=\"2\"><i>... (more)</i></td></tr></tbody></table>"
      ]
     },
     "metadata": {},
     "output_type": "display_data"
    }
   ],
   "source": [
    "var priorities = commonItems.Select(i => {\n",
    "    return i switch\n",
    "    {\n",
    "        >= 'a' and <= 'z' => ((int) i) - 96,\n",
    "        >= 'A' and <= 'Z' => ((int) i) - 38\n",
    "    };\n",
    "});\n",
    "\n",
    "priorities"
   ]
  },
  {
   "cell_type": "code",
   "execution_count": 85,
   "metadata": {
    "dotnet_interactive": {
     "language": "csharp"
    },
    "vscode": {
     "languageId": "dotnet-interactive.csharp"
    }
   },
   "outputs": [
    {
     "data": {
      "text/html": [
       "<div class=\"dni-plaintext\">7701</div>"
      ]
     },
     "metadata": {},
     "output_type": "display_data"
    }
   ],
   "source": [
    "var totalPriority = priorities.Sum();\n",
    "\n",
    "totalPriority"
   ]
  },
  {
   "cell_type": "markdown",
   "metadata": {},
   "source": [
    "## Part 2"
   ]
  },
  {
   "cell_type": "code",
   "execution_count": 86,
   "metadata": {
    "dotnet_interactive": {
     "language": "csharp"
    },
    "vscode": {
     "languageId": "dotnet-interactive.csharp"
    }
   },
   "outputs": [
    {
     "data": {
      "text/html": [
       "<table><thead><tr><th><i>index</i></th><th>value</th></tr></thead><tbody><tr><td>0</td><td><div class=\"dni-plaintext\">[ MVWpzTTrTFNNLtssjV, hRJncnJCnhPCnBSbCQRhhQRPFHmsbHLzbLNHsjNNFmGGGsGF, lSBQJBBBBcnccnQvBnPQznfrgwlrTZfDwTfWqrrpgMpw ]</div></td></tr><tr><td>1</td><td><div class=\"dni-plaintext\">[ sRPgrzSgrSbfTrgspBPsDWWTmdnvdZWZwTmwvdmd, tVGpCGqCGjlHcNGVNHZDmnZMWdWMWCdZDvnZ, HqpQptLlclLGtlpcjHNhQqfRhrSBrrbfbrSRrsPfBSgg ]</div></td></tr><tr><td>2</td><td><div class=\"dni-plaintext\">[ JpjLbQbFPBjDBBJLWltglfBfhhlcctht, vNFmsdFsnmzGtWvgzhzc, rqwRCCqmCTqHCnqRNTNFsJVMQSjLRbbVVbjQVLbLSV ]</div></td></tr><tr><td>3</td><td><div class=\"dni-plaintext\">[ mLNNCNDwBwDnmCwnJwLRvdlqZclRccsgvcZndc, QWMtVWbpVlgHHcgMHs, VsTVWhThsVQWzjtQPpVWjWbpwJNCJDCzSNNCCCSfmfBCSGLL ]</div></td></tr><tr><td>4</td><td><div class=\"dni-plaintext\">[ NbSfHnwDvwwfHwwQsHbWPgrsZsZjRPLRgLWhWP, lmMlTGFzVmzqjGLLZWWGhrCh, qFclMprqmrvbcnwDQtNQ ]</div></td></tr><tr><td>5</td><td><div class=\"dni-plaintext\">[ tWQZFvvtWQWbqQQggZZLvpLrpzDrmGDmmDHPzPzHrfnHTG, NMlhlTMccTCVBlRNHzJnzDDmnJmnGGBf, NMMSSSSSlNVMdjdNSNNhFwTbvbLqjbtLwWQwZqgg ]</div></td></tr><tr><td>6</td><td><div class=\"dni-plaintext\">[ jPwcJwRmmhJpbhNJVgDbrHzzzQzzBQHg, tdZqlCnnnlvZCqlnlCSqZdFCHGDBgzsDzssBtHGLQtrHsssL, TZZFSdrdlZMFZRMwMPmNcwNmwm ]</div></td></tr><tr><td>7</td><td><div class=\"dni-plaintext\">[ nsdhzmDBGQWQPvJPjbbW, gCgBqCNpMHTwgwqMPRJJTtWjbFRJFJvP, ZlCwBrwgmzhGzDrd ]</div></td></tr><tr><td>8</td><td><div class=\"dni-plaintext\">[ sTBHfcnBTnqHRvqPgFFbLtrQTPLjjm, GWzpwSJSpbwbNNGJPQrrtrrrrgzLtjzm, NNSlCCdplWwplCwSndnssdZfqVbHvfqc ]</div></td></tr><tr><td>9</td><td><div class=\"dni-plaintext\">[ rrfHgqnlllRrDgrCbQfszMPtmzPQzFsFMQ, JJLGVGjcwVcPQNNNtRPmLM, WThVJJWJBdGwBpBTqDrSRCCggShqbSCb ]</div></td></tr><tr><td>10</td><td><div class=\"dni-plaintext\">[ TbCqzqzmbCffzDbHRddLbdRFRS, ZmvZJPjPwwWNZJGtWSDRRDFWSLhhhMVVWL, ZwplGwmptNjZnjvnGGPjJlZppTrTsCczfggBgfgfggCsBrqr ]</div></td></tr><tr><td>11</td><td><div class=\"dni-plaintext\">[ gMBBbfBbBMfnMsvRvWJhDsQW, ZZqHLzczjjsLzlpjqTprNJvhQpRvtRJJQrtQtJ, llZlzZZzPZZqsTZscHczfnSwSPSwwgSBwwSnPwnf ]</div></td></tr><tr><td>12</td><td><div class=\"dni-plaintext\">[ chMtcPPgQtthqgvczhMTcCSBLBlGpsFnBnnsGvLplSFG, bhRmJWDRmHSmFGBnGBps, jdDZWbrDdDbbdbDrRRWwRjZRVqztCzqtcThcTQtgqVMMVzjq ]</div></td></tr><tr><td>13</td><td><div class=\"dni-plaintext\">[ flNmNHgcZwTzRLzMLRPlzz, nntqBJtFbbCbBVCnBtFjJjhVhLzLvRLvgRRvPvpMpvpp, CgJWjJQDjgBtnGNGfcssNfcwNW ]</div></td></tr><tr><td>14</td><td><div class=\"dni-plaintext\">[ MrMpMrGBznjPMGCmCrrjdwndfJLQNfdLQNdNggdL, sJVcZqvhZtVqhDFFsDJslcdwgwvwQwwQNbbTbwfLLTgL, RDDRcsSsstJstVDDqctszzmRmGjpjBRHPmmGHGrj ]</div></td></tr><tr><td>15</td><td><div class=\"dni-plaintext\">[ tdplZtlrBGwTlLQQ, sfsPPvNhWLQBhGQG, zPVfzVbbMcscvVfzzNgcJHnJZgtrrndJqjJqndrL ]</div></td></tr><tr><td>16</td><td><div class=\"dni-plaintext\">[ nglLjRCCHLLCnNCLHQnFNQmmVMbVmwMwlMwMMMWwBTsT, cqtfcqZpzhSvvBfWwbvrbT, PPqpDSqcSJPdPhtPtqZcpPtGjFRFFFNLJFGRgjFbGRNbHn ]</div></td></tr><tr><td>17</td><td><div class=\"dni-plaintext\">[ gjtRSLMqLdSgLMCltTSDQcQQqhDcfcfrWDhWrr, GwFZCwNzFJsPmFFmZmPPNhvDDfDWWmpvQWWfVDQppW, swNGZbPBGwnCgBBlBljl ]</div></td></tr><tr><td>18</td><td><div class=\"dni-plaintext\">[ BsrDsnQGwFFQQtfNTBNSffBgBt, VJlhWVLlRppLQZTCbtZTttgJ, ppLqqRhQdRPhqPVhdPjhljqHFnGnzFrjFFDznHFHrmwwnH ]</div></td></tr><tr><td>19</td><td><div class=\"dni-plaintext\">[ CJMmmJLmlshCCdmzjHjPWztgdnjttt, GwZvGwrgTcFpzHWjnT, GbqrvrRwbrbGbwwZBbgfhmJMmsDJhNRfLChhCh ]</div></td></tr><tr><td colspan=\"2\"><i>... (more)</i></td></tr></tbody></table>"
      ]
     },
     "metadata": {},
     "output_type": "display_data"
    }
   ],
   "source": [
    "var groups = lines.Chunk(3);\n",
    "\n",
    "groups"
   ]
  },
  {
   "cell_type": "code",
   "execution_count": 87,
   "metadata": {
    "dotnet_interactive": {
     "language": "csharp"
    },
    "vscode": {
     "languageId": "dotnet-interactive.csharp"
    }
   },
   "outputs": [
    {
     "data": {
      "text/html": [
       "<table><thead><tr><th><i>index</i></th><th>value</th></tr></thead><tbody><tr><td>0</td><td><div class=\"dni-plaintext\">z</div></td></tr><tr><td>1</td><td><div class=\"dni-plaintext\">p</div></td></tr><tr><td>2</td><td><div class=\"dni-plaintext\">F</div></td></tr><tr><td>3</td><td><div class=\"dni-plaintext\">s</div></td></tr><tr><td>4</td><td><div class=\"dni-plaintext\">r</div></td></tr><tr><td>5</td><td><div class=\"dni-plaintext\">T</div></td></tr><tr><td>6</td><td><div class=\"dni-plaintext\">r</div></td></tr><tr><td>7</td><td><div class=\"dni-plaintext\">B</div></td></tr><tr><td>8</td><td><div class=\"dni-plaintext\">b</div></td></tr><tr><td>9</td><td><div class=\"dni-plaintext\">R</div></td></tr><tr><td>10</td><td><div class=\"dni-plaintext\">m</div></td></tr><tr><td>11</td><td><div class=\"dni-plaintext\">s</div></td></tr><tr><td>12</td><td><div class=\"dni-plaintext\">h</div></td></tr><tr><td>13</td><td><div class=\"dni-plaintext\">g</div></td></tr><tr><td>14</td><td><div class=\"dni-plaintext\">J</div></td></tr><tr><td>15</td><td><div class=\"dni-plaintext\">L</div></td></tr><tr><td>16</td><td><div class=\"dni-plaintext\">b</div></td></tr><tr><td>17</td><td><div class=\"dni-plaintext\">C</div></td></tr><tr><td>18</td><td><div class=\"dni-plaintext\">Q</div></td></tr><tr><td>19</td><td><div class=\"dni-plaintext\">g</div></td></tr><tr><td colspan=\"2\"><i>... (more)</i></td></tr></tbody></table>"
      ]
     },
     "metadata": {},
     "output_type": "display_data"
    }
   ],
   "source": [
    "var badges = groups\n",
    "    .Select(g => g.ToArray())\n",
    "    .Select(g => g[0].Intersect(g[1]).Intersect(g[2]).Single());\n",
    "\n",
    "badges"
   ]
  },
  {
   "cell_type": "code",
   "execution_count": 88,
   "metadata": {
    "dotnet_interactive": {
     "language": "csharp"
    },
    "vscode": {
     "languageId": "dotnet-interactive.csharp"
    }
   },
   "outputs": [
    {
     "data": {
      "text/html": [
       "<table><thead><tr><th><i>index</i></th><th>value</th></tr></thead><tbody><tr><td>0</td><td><div class=\"dni-plaintext\">26</div></td></tr><tr><td>1</td><td><div class=\"dni-plaintext\">16</div></td></tr><tr><td>2</td><td><div class=\"dni-plaintext\">32</div></td></tr><tr><td>3</td><td><div class=\"dni-plaintext\">19</div></td></tr><tr><td>4</td><td><div class=\"dni-plaintext\">18</div></td></tr><tr><td>5</td><td><div class=\"dni-plaintext\">46</div></td></tr><tr><td>6</td><td><div class=\"dni-plaintext\">18</div></td></tr><tr><td>7</td><td><div class=\"dni-plaintext\">28</div></td></tr><tr><td>8</td><td><div class=\"dni-plaintext\">2</div></td></tr><tr><td>9</td><td><div class=\"dni-plaintext\">44</div></td></tr><tr><td>10</td><td><div class=\"dni-plaintext\">13</div></td></tr><tr><td>11</td><td><div class=\"dni-plaintext\">19</div></td></tr><tr><td>12</td><td><div class=\"dni-plaintext\">8</div></td></tr><tr><td>13</td><td><div class=\"dni-plaintext\">7</div></td></tr><tr><td>14</td><td><div class=\"dni-plaintext\">36</div></td></tr><tr><td>15</td><td><div class=\"dni-plaintext\">38</div></td></tr><tr><td>16</td><td><div class=\"dni-plaintext\">2</div></td></tr><tr><td>17</td><td><div class=\"dni-plaintext\">29</div></td></tr><tr><td>18</td><td><div class=\"dni-plaintext\">43</div></td></tr><tr><td>19</td><td><div class=\"dni-plaintext\">7</div></td></tr><tr><td colspan=\"2\"><i>... (more)</i></td></tr></tbody></table>"
      ]
     },
     "metadata": {},
     "output_type": "display_data"
    }
   ],
   "source": [
    "var priorities = badges.Select(i => {\n",
    "    return i switch\n",
    "    {\n",
    "        >= 'a' and <= 'z' => ((int) i) - 96,\n",
    "        >= 'A' and <= 'Z' => ((int) i) - 38\n",
    "    };\n",
    "});\n",
    "\n",
    "priorities"
   ]
  },
  {
   "cell_type": "code",
   "execution_count": 89,
   "metadata": {
    "dotnet_interactive": {
     "language": "csharp"
    },
    "vscode": {
     "languageId": "dotnet-interactive.csharp"
    }
   },
   "outputs": [
    {
     "data": {
      "text/html": [
       "<div class=\"dni-plaintext\">2644</div>"
      ]
     },
     "metadata": {},
     "output_type": "display_data"
    }
   ],
   "source": [
    "var totalPriority = priorities.Sum();\n",
    "\n",
    "totalPriority"
   ]
  }
 ],
 "metadata": {
  "kernelspec": {
   "display_name": ".NET (C#)",
   "language": "C#",
   "name": ".net-csharp"
  },
  "language_info": {
   "file_extension": ".cs",
   "mimetype": "text/x-csharp",
   "name": "C#",
   "pygments_lexer": "csharp",
   "version": "9.0"
  },
  "orig_nbformat": 4,
  "vscode": {
   "interpreter": {
    "hash": "bdf1d89451dd98172cc8d2f74f0e8973c100cdfc475fe19f28f283c47be57e9a"
   }
  }
 },
 "nbformat": 4,
 "nbformat_minor": 2
}
